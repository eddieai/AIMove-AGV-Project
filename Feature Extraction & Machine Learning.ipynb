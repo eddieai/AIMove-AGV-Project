{
 "cells": [
  {
   "cell_type": "markdown",
   "metadata": {},
   "source": [
    "## Step 1: Import packages and data"
   ]
  },
  {
   "cell_type": "code",
   "execution_count": 1,
   "metadata": {
    "pycharm": {
     "is_executing": false
    }
   },
   "outputs": [],
   "source": [
    "# %matplotlib notebook\n",
    "# %matplotlib ipympl\n",
    "import sys\n",
    "import matplotlib.pyplot as plt\n",
    "from mpl_toolkits.mplot3d import Axes3D\n",
    "import pandas as pd\n",
    "import numpy as np\n",
    "import itertools as it\n",
    "from IPython.display import display\n",
    "# from sklearn.cluster import KMeans\n",
    "from sklearn.metrics import classification_report\n",
    "from sklearn.metrics import confusion_matrix\n",
    "from hmmlearn import hmm\n",
    "from tslearn.metrics import dtw\n",
    "# import sklearn_crfsuite\n",
    "from time import time\n",
    "import json\n",
    "\n",
    "import warnings\n",
    "warnings.filterwarnings('ignore')\n",
    "\n",
    "desired_width=320\n",
    "pd.set_option('display.width', desired_width)\n",
    "pd.set_option('display.max_columns',20)\n",
    "np.set_printoptions(linewidth=desired_width)\n",
    "np.set_printoptions(threshold=sys.maxsize)"
   ]
  },
  {
   "cell_type": "code",
   "execution_count": 2,
   "metadata": {},
   "outputs": [],
   "source": [
    "Keypoints_1_7_normalized = pd.read_json('Keypoints_1_8_normalized_New.json', orient='records')"
   ]
  },
  {
   "cell_type": "markdown",
   "metadata": {},
   "source": [
    "## Step 2: Feature Extraction"
   ]
  },
  {
   "cell_type": "code",
   "execution_count": 3,
   "metadata": {
    "scrolled": true
   },
   "outputs": [
    {
     "data": {
      "text/html": [
       "<div>\n",
       "<style scoped>\n",
       "    .dataframe tbody tr th:only-of-type {\n",
       "        vertical-align: middle;\n",
       "    }\n",
       "\n",
       "    .dataframe tbody tr th {\n",
       "        vertical-align: top;\n",
       "    }\n",
       "\n",
       "    .dataframe thead th {\n",
       "        text-align: right;\n",
       "    }\n",
       "</style>\n",
       "<table border=\"1\" class=\"dataframe\">\n",
       "  <thead>\n",
       "    <tr style=\"text-align: right;\">\n",
       "      <th></th>\n",
       "      <th>Gesture</th>\n",
       "      <th>Sub folder No.</th>\n",
       "      <th>Frame No.</th>\n",
       "      <th>Joint</th>\n",
       "      <th>X</th>\n",
       "      <th>Y</th>\n",
       "      <th>Depth</th>\n",
       "    </tr>\n",
       "  </thead>\n",
       "  <tbody>\n",
       "    <tr>\n",
       "      <th>0</th>\n",
       "      <td>1</td>\n",
       "      <td>1</td>\n",
       "      <td>1</td>\n",
       "      <td>1</td>\n",
       "      <td>0.459640</td>\n",
       "      <td>0.291736</td>\n",
       "      <td>0.639216</td>\n",
       "    </tr>\n",
       "    <tr>\n",
       "      <th>1</th>\n",
       "      <td>1</td>\n",
       "      <td>1</td>\n",
       "      <td>1</td>\n",
       "      <td>2</td>\n",
       "      <td>0.424387</td>\n",
       "      <td>0.291780</td>\n",
       "      <td>0.639216</td>\n",
       "    </tr>\n",
       "    <tr>\n",
       "      <th>2</th>\n",
       "      <td>1</td>\n",
       "      <td>1</td>\n",
       "      <td>1</td>\n",
       "      <td>3</td>\n",
       "      <td>0.410519</td>\n",
       "      <td>0.395220</td>\n",
       "      <td>0.647059</td>\n",
       "    </tr>\n",
       "    <tr>\n",
       "      <th>3</th>\n",
       "      <td>1</td>\n",
       "      <td>1</td>\n",
       "      <td>1</td>\n",
       "      <td>4</td>\n",
       "      <td>0.407478</td>\n",
       "      <td>0.487731</td>\n",
       "      <td>0.639216</td>\n",
       "    </tr>\n",
       "    <tr>\n",
       "      <th>4</th>\n",
       "      <td>1</td>\n",
       "      <td>1</td>\n",
       "      <td>1</td>\n",
       "      <td>5</td>\n",
       "      <td>0.496337</td>\n",
       "      <td>0.291689</td>\n",
       "      <td>0.639216</td>\n",
       "    </tr>\n",
       "  </tbody>\n",
       "</table>\n",
       "</div>"
      ],
      "text/plain": [
       "   Gesture  Sub folder No.  Frame No.  Joint         X         Y     Depth\n",
       "0        1               1          1      1  0.459640  0.291736  0.639216\n",
       "1        1               1          1      2  0.424387  0.291780  0.639216\n",
       "2        1               1          1      3  0.410519  0.395220  0.647059\n",
       "3        1               1          1      4  0.407478  0.487731  0.639216\n",
       "4        1               1          1      5  0.496337  0.291689  0.639216"
      ]
     },
     "execution_count": 3,
     "metadata": {},
     "output_type": "execute_result"
    }
   ],
   "source": [
    "Keypoints_1_7_normalized.head()"
   ]
  },
  {
   "cell_type": "code",
   "execution_count": 4,
   "metadata": {},
   "outputs": [
    {
     "data": {
      "text/html": [
       "<div>\n",
       "<style scoped>\n",
       "    .dataframe tbody tr th:only-of-type {\n",
       "        vertical-align: middle;\n",
       "    }\n",
       "\n",
       "    .dataframe tbody tr th {\n",
       "        vertical-align: top;\n",
       "    }\n",
       "\n",
       "    .dataframe thead tr th {\n",
       "        text-align: left;\n",
       "    }\n",
       "\n",
       "    .dataframe thead tr:last-of-type th {\n",
       "        text-align: right;\n",
       "    }\n",
       "</style>\n",
       "<table border=\"1\" class=\"dataframe\">\n",
       "  <thead>\n",
       "    <tr>\n",
       "      <th></th>\n",
       "      <th></th>\n",
       "      <th></th>\n",
       "      <th colspan=\"7\" halign=\"left\">Depth</th>\n",
       "      <th colspan=\"7\" halign=\"left\">X</th>\n",
       "      <th colspan=\"7\" halign=\"left\">Y</th>\n",
       "    </tr>\n",
       "    <tr>\n",
       "      <th></th>\n",
       "      <th></th>\n",
       "      <th>Joint</th>\n",
       "      <th>1</th>\n",
       "      <th>2</th>\n",
       "      <th>3</th>\n",
       "      <th>4</th>\n",
       "      <th>5</th>\n",
       "      <th>6</th>\n",
       "      <th>7</th>\n",
       "      <th>1</th>\n",
       "      <th>2</th>\n",
       "      <th>3</th>\n",
       "      <th>...</th>\n",
       "      <th>5</th>\n",
       "      <th>6</th>\n",
       "      <th>7</th>\n",
       "      <th>1</th>\n",
       "      <th>2</th>\n",
       "      <th>3</th>\n",
       "      <th>4</th>\n",
       "      <th>5</th>\n",
       "      <th>6</th>\n",
       "      <th>7</th>\n",
       "    </tr>\n",
       "    <tr>\n",
       "      <th>Gesture</th>\n",
       "      <th>Sub folder No.</th>\n",
       "      <th>Frame No.</th>\n",
       "      <th></th>\n",
       "      <th></th>\n",
       "      <th></th>\n",
       "      <th></th>\n",
       "      <th></th>\n",
       "      <th></th>\n",
       "      <th></th>\n",
       "      <th></th>\n",
       "      <th></th>\n",
       "      <th></th>\n",
       "      <th></th>\n",
       "      <th></th>\n",
       "      <th></th>\n",
       "      <th></th>\n",
       "      <th></th>\n",
       "      <th></th>\n",
       "      <th></th>\n",
       "      <th></th>\n",
       "      <th></th>\n",
       "      <th></th>\n",
       "      <th></th>\n",
       "    </tr>\n",
       "  </thead>\n",
       "  <tbody>\n",
       "    <tr>\n",
       "      <th rowspan=\"5\" valign=\"top\">1</th>\n",
       "      <th rowspan=\"5\" valign=\"top\">1</th>\n",
       "      <th>1</th>\n",
       "      <td>0.639216</td>\n",
       "      <td>0.639216</td>\n",
       "      <td>0.647059</td>\n",
       "      <td>0.639216</td>\n",
       "      <td>0.639216</td>\n",
       "      <td>0.639216</td>\n",
       "      <td>0.631373</td>\n",
       "      <td>0.459640</td>\n",
       "      <td>0.424387</td>\n",
       "      <td>0.410519</td>\n",
       "      <td>...</td>\n",
       "      <td>0.496337</td>\n",
       "      <td>0.511610</td>\n",
       "      <td>0.510107</td>\n",
       "      <td>0.291736</td>\n",
       "      <td>0.291780</td>\n",
       "      <td>0.395220</td>\n",
       "      <td>0.487731</td>\n",
       "      <td>0.291689</td>\n",
       "      <td>0.395177</td>\n",
       "      <td>0.487628</td>\n",
       "    </tr>\n",
       "    <tr>\n",
       "      <th>2</th>\n",
       "      <td>0.639216</td>\n",
       "      <td>0.639216</td>\n",
       "      <td>0.658824</td>\n",
       "      <td>0.639216</td>\n",
       "      <td>0.647059</td>\n",
       "      <td>0.639216</td>\n",
       "      <td>0.631373</td>\n",
       "      <td>0.459640</td>\n",
       "      <td>0.424392</td>\n",
       "      <td>0.410554</td>\n",
       "      <td>...</td>\n",
       "      <td>0.496333</td>\n",
       "      <td>0.511582</td>\n",
       "      <td>0.510085</td>\n",
       "      <td>0.291764</td>\n",
       "      <td>0.291817</td>\n",
       "      <td>0.395209</td>\n",
       "      <td>0.487708</td>\n",
       "      <td>0.291706</td>\n",
       "      <td>0.395219</td>\n",
       "      <td>0.487642</td>\n",
       "    </tr>\n",
       "    <tr>\n",
       "      <th>3</th>\n",
       "      <td>0.639216</td>\n",
       "      <td>0.639216</td>\n",
       "      <td>0.647059</td>\n",
       "      <td>0.639216</td>\n",
       "      <td>0.639216</td>\n",
       "      <td>0.639216</td>\n",
       "      <td>0.631373</td>\n",
       "      <td>0.459646</td>\n",
       "      <td>0.424398</td>\n",
       "      <td>0.410545</td>\n",
       "      <td>...</td>\n",
       "      <td>0.496338</td>\n",
       "      <td>0.511598</td>\n",
       "      <td>0.510080</td>\n",
       "      <td>0.291766</td>\n",
       "      <td>0.291814</td>\n",
       "      <td>0.395226</td>\n",
       "      <td>0.487695</td>\n",
       "      <td>0.291717</td>\n",
       "      <td>0.395192</td>\n",
       "      <td>0.487635</td>\n",
       "    </tr>\n",
       "    <tr>\n",
       "      <th>4</th>\n",
       "      <td>0.639216</td>\n",
       "      <td>0.631373</td>\n",
       "      <td>0.658824</td>\n",
       "      <td>0.639216</td>\n",
       "      <td>0.639216</td>\n",
       "      <td>0.647059</td>\n",
       "      <td>0.631373</td>\n",
       "      <td>0.461075</td>\n",
       "      <td>0.425869</td>\n",
       "      <td>0.409115</td>\n",
       "      <td>...</td>\n",
       "      <td>0.496353</td>\n",
       "      <td>0.511583</td>\n",
       "      <td>0.510093</td>\n",
       "      <td>0.291774</td>\n",
       "      <td>0.291824</td>\n",
       "      <td>0.395228</td>\n",
       "      <td>0.487729</td>\n",
       "      <td>0.291714</td>\n",
       "      <td>0.392556</td>\n",
       "      <td>0.487613</td>\n",
       "    </tr>\n",
       "    <tr>\n",
       "      <th>5</th>\n",
       "      <td>0.639216</td>\n",
       "      <td>0.647059</td>\n",
       "      <td>0.658824</td>\n",
       "      <td>0.647059</td>\n",
       "      <td>0.631373</td>\n",
       "      <td>0.639216</td>\n",
       "      <td>0.631373</td>\n",
       "      <td>0.461090</td>\n",
       "      <td>0.425876</td>\n",
       "      <td>0.408999</td>\n",
       "      <td>...</td>\n",
       "      <td>0.496377</td>\n",
       "      <td>0.511604</td>\n",
       "      <td>0.510099</td>\n",
       "      <td>0.291786</td>\n",
       "      <td>0.291861</td>\n",
       "      <td>0.392478</td>\n",
       "      <td>0.479622</td>\n",
       "      <td>0.291694</td>\n",
       "      <td>0.397862</td>\n",
       "      <td>0.487660</td>\n",
       "    </tr>\n",
       "  </tbody>\n",
       "</table>\n",
       "<p>5 rows × 21 columns</p>\n",
       "</div>"
      ],
      "text/plain": [
       "                                     Depth                                                                     X                      ...                                       Y                                                            \n",
       "Joint                                    1         2         3         4         5         6         7         1         2         3  ...         5         6         7         1         2         3         4         5         6         7\n",
       "Gesture Sub folder No. Frame No.                                                                                                      ...                                                                                                    \n",
       "1       1              1          0.639216  0.639216  0.647059  0.639216  0.639216  0.639216  0.631373  0.459640  0.424387  0.410519  ...  0.496337  0.511610  0.510107  0.291736  0.291780  0.395220  0.487731  0.291689  0.395177  0.487628\n",
       "                       2          0.639216  0.639216  0.658824  0.639216  0.647059  0.639216  0.631373  0.459640  0.424392  0.410554  ...  0.496333  0.511582  0.510085  0.291764  0.291817  0.395209  0.487708  0.291706  0.395219  0.487642\n",
       "                       3          0.639216  0.639216  0.647059  0.639216  0.639216  0.639216  0.631373  0.459646  0.424398  0.410545  ...  0.496338  0.511598  0.510080  0.291766  0.291814  0.395226  0.487695  0.291717  0.395192  0.487635\n",
       "                       4          0.639216  0.631373  0.658824  0.639216  0.639216  0.647059  0.631373  0.461075  0.425869  0.409115  ...  0.496353  0.511583  0.510093  0.291774  0.291824  0.395228  0.487729  0.291714  0.392556  0.487613\n",
       "                       5          0.639216  0.647059  0.658824  0.647059  0.631373  0.639216  0.631373  0.461090  0.425876  0.408999  ...  0.496377  0.511604  0.510099  0.291786  0.291861  0.392478  0.479622  0.291694  0.397862  0.487660\n",
       "\n",
       "[5 rows x 21 columns]"
      ]
     },
     "metadata": {},
     "output_type": "display_data"
    }
   ],
   "source": [
    "pivot = Keypoints_1_7_normalized.pivot_table(index = ['Gesture', 'Sub folder No.', 'Frame No.'], columns = ['Joint'], values = ['X', 'Y', 'Depth'])\n",
    "display(pivot.head())"
   ]
  },
  {
   "cell_type": "code",
   "execution_count": 5,
   "metadata": {},
   "outputs": [],
   "source": [
    "def joint_pair_distance(row, pairs):\n",
    "    x = row['X']\n",
    "    y = row['Y']\n",
    "    z = row['Depth']\n",
    "    \n",
    "    result = np.empty(0)\n",
    "    for pair in pairs:\n",
    "        distance = np.sqrt((x[pair[0]] - x[pair[1]])**2 + (y[pair[0]] - y[pair[1]])**2 + (z[pair[0]] - z[pair[1]])**2)\n",
    "        result = np.append(result, distance)\n",
    "    return result"
   ]
  },
  {
   "cell_type": "code",
   "execution_count": 6,
   "metadata": {},
   "outputs": [
    {
     "data": {
      "text/html": [
       "<div>\n",
       "<style scoped>\n",
       "    .dataframe tbody tr th:only-of-type {\n",
       "        vertical-align: middle;\n",
       "    }\n",
       "\n",
       "    .dataframe tbody tr th {\n",
       "        vertical-align: top;\n",
       "    }\n",
       "\n",
       "    .dataframe thead th {\n",
       "        text-align: right;\n",
       "    }\n",
       "</style>\n",
       "<table border=\"1\" class=\"dataframe\">\n",
       "  <thead>\n",
       "    <tr style=\"text-align: right;\">\n",
       "      <th></th>\n",
       "      <th></th>\n",
       "      <th></th>\n",
       "      <th>Feature</th>\n",
       "    </tr>\n",
       "    <tr>\n",
       "      <th>Gesture</th>\n",
       "      <th>Sub folder No.</th>\n",
       "      <th>Frame No.</th>\n",
       "      <th></th>\n",
       "    </tr>\n",
       "  </thead>\n",
       "  <tbody>\n",
       "    <tr>\n",
       "      <th rowspan=\"5\" valign=\"top\">1</th>\n",
       "      <th rowspan=\"5\" valign=\"top\">1</th>\n",
       "      <th>1</th>\n",
       "      <td>[0.035253169731879426, 0.11481821631348509, 0....</td>\n",
       "    </tr>\n",
       "    <tr>\n",
       "      <th>2</th>\n",
       "      <td>[0.03524793820627491, 0.11616723988329361, 0.2...</td>\n",
       "    </tr>\n",
       "    <tr>\n",
       "      <th>3</th>\n",
       "      <td>[0.03524802719075114, 0.11478907633664914, 0.2...</td>\n",
       "    </tr>\n",
       "    <tr>\n",
       "      <th>4</th>\n",
       "      <td>[0.03606838320137513, 0.11741830517451858, 0.2...</td>\n",
       "    </tr>\n",
       "    <tr>\n",
       "      <th>5</th>\n",
       "      <td>[0.0360774082742266, 0.11505174437926374, 0.20...</td>\n",
       "    </tr>\n",
       "  </tbody>\n",
       "</table>\n",
       "</div>"
      ],
      "text/plain": [
       "                                                                            Feature\n",
       "Gesture Sub folder No. Frame No.                                                   \n",
       "1       1              1          [0.035253169731879426, 0.11481821631348509, 0....\n",
       "                       2          [0.03524793820627491, 0.11616723988329361, 0.2...\n",
       "                       3          [0.03524802719075114, 0.11478907633664914, 0.2...\n",
       "                       4          [0.03606838320137513, 0.11741830517451858, 0.2...\n",
       "                       5          [0.0360774082742266, 0.11505174437926374, 0.20..."
      ]
     },
     "execution_count": 6,
     "metadata": {},
     "output_type": "execute_result"
    }
   ],
   "source": [
    "pairs = list(it.combinations(np.arange(1,8), 2))\n",
    "joint_pair_distance_feature = pivot.apply(lambda x: joint_pair_distance(x, pairs), axis=1).rename('Feature')\n",
    "joint_pair_distance_feature.to_frame().head()"
   ]
  },
  {
   "cell_type": "code",
   "execution_count": 7,
   "metadata": {
    "scrolled": true
   },
   "outputs": [
    {
     "data": {
      "text/html": [
       "<div>\n",
       "<style scoped>\n",
       "    .dataframe tbody tr th:only-of-type {\n",
       "        vertical-align: middle;\n",
       "    }\n",
       "\n",
       "    .dataframe tbody tr th {\n",
       "        vertical-align: top;\n",
       "    }\n",
       "\n",
       "    .dataframe thead th {\n",
       "        text-align: right;\n",
       "    }\n",
       "</style>\n",
       "<table border=\"1\" class=\"dataframe\">\n",
       "  <thead>\n",
       "    <tr style=\"text-align: right;\">\n",
       "      <th></th>\n",
       "      <th></th>\n",
       "      <th></th>\n",
       "      <th>Feature_normalized</th>\n",
       "    </tr>\n",
       "    <tr>\n",
       "      <th>Gesture</th>\n",
       "      <th>Sub folder No.</th>\n",
       "      <th>Frame No.</th>\n",
       "      <th></th>\n",
       "    </tr>\n",
       "  </thead>\n",
       "  <tbody>\n",
       "    <tr>\n",
       "      <th rowspan=\"5\" valign=\"top\">1</th>\n",
       "      <th rowspan=\"5\" valign=\"top\">1</th>\n",
       "      <th>1</th>\n",
       "      <td>[0.16378520369288252, 0.5334421015070249, 0.94...</td>\n",
       "    </tr>\n",
       "    <tr>\n",
       "      <th>2</th>\n",
       "      <td>[0.16272209737118765, 0.5362860320796371, 0.93...</td>\n",
       "    </tr>\n",
       "    <tr>\n",
       "      <th>3</th>\n",
       "      <td>[0.1608931869132628, 0.5239663546185466, 0.936...</td>\n",
       "    </tr>\n",
       "    <tr>\n",
       "      <th>4</th>\n",
       "      <td>[0.1630229119332137, 0.5307106203497073, 0.936...</td>\n",
       "    </tr>\n",
       "    <tr>\n",
       "      <th>5</th>\n",
       "      <td>[0.16454604506690762, 0.5247413941644206, 0.92...</td>\n",
       "    </tr>\n",
       "  </tbody>\n",
       "</table>\n",
       "</div>"
      ],
      "text/plain": [
       "                                                                 Feature_normalized\n",
       "Gesture Sub folder No. Frame No.                                                   \n",
       "1       1              1          [0.16378520369288252, 0.5334421015070249, 0.94...\n",
       "                       2          [0.16272209737118765, 0.5362860320796371, 0.93...\n",
       "                       3          [0.1608931869132628, 0.5239663546185466, 0.936...\n",
       "                       4          [0.1630229119332137, 0.5307106203497073, 0.936...\n",
       "                       5          [0.16454604506690762, 0.5247413941644206, 0.92..."
      ]
     },
     "execution_count": 7,
     "metadata": {},
     "output_type": "execute_result"
    }
   ],
   "source": [
    "joint_pair_distance_feature_normalized = joint_pair_distance_feature.apply(lambda x: x/np.max(x)).rename('Feature_normalized')\n",
    "joint_pair_distance_feature_normalized.to_frame().head()"
   ]
  },
  {
   "cell_type": "code",
   "execution_count": 8,
   "metadata": {},
   "outputs": [],
   "source": [
    "#joint_pair_distance_feature_normalized2 = joint_pair_distance_feature_normalized.apply(lambda x: x/joint_pair_distance_feature_normalized.iloc[0]).rename('Feature_normalized2')\n",
    "#joint_pair_distance_feature_normalized2.to_frame().head()"
   ]
  },
  {
   "cell_type": "markdown",
   "metadata": {},
   "source": [
    "## Step 3: Prepare Training and Testing Dataset"
   ]
  },
  {
   "cell_type": "code",
   "execution_count": 9,
   "metadata": {
    "scrolled": true
   },
   "outputs": [],
   "source": [
    "gesture_number = len(Keypoints_1_7_normalized['Gesture'].unique())"
   ]
  },
  {
   "cell_type": "code",
   "execution_count": 10,
   "metadata": {},
   "outputs": [
    {
     "data": {
      "text/html": [
       "<div>\n",
       "<style scoped>\n",
       "    .dataframe tbody tr th:only-of-type {\n",
       "        vertical-align: middle;\n",
       "    }\n",
       "\n",
       "    .dataframe tbody tr th {\n",
       "        vertical-align: top;\n",
       "    }\n",
       "\n",
       "    .dataframe thead th {\n",
       "        text-align: right;\n",
       "    }\n",
       "</style>\n",
       "<table border=\"1\" class=\"dataframe\">\n",
       "  <thead>\n",
       "    <tr style=\"text-align: right;\">\n",
       "      <th></th>\n",
       "      <th></th>\n",
       "      <th>Feature_normalized</th>\n",
       "    </tr>\n",
       "    <tr>\n",
       "      <th>Gesture</th>\n",
       "      <th>Sub folder No.</th>\n",
       "      <th></th>\n",
       "    </tr>\n",
       "  </thead>\n",
       "  <tbody>\n",
       "    <tr>\n",
       "      <th rowspan=\"5\" valign=\"top\">1</th>\n",
       "      <th>1</th>\n",
       "      <td>[[0.16378520369288252, 0.5334421015070249, 0.9...</td>\n",
       "    </tr>\n",
       "    <tr>\n",
       "      <th>2</th>\n",
       "      <td>[[0.17471872658208118, 0.5378476847798014, 0.9...</td>\n",
       "    </tr>\n",
       "    <tr>\n",
       "      <th>3</th>\n",
       "      <td>[[0.18216633181606004, 0.5231743019007848, 0.9...</td>\n",
       "    </tr>\n",
       "    <tr>\n",
       "      <th>4</th>\n",
       "      <td>[[0.1716376696151291, 0.5519438903924956, 0.94...</td>\n",
       "    </tr>\n",
       "    <tr>\n",
       "      <th>5</th>\n",
       "      <td>[[0.167079341578526, 0.5377976506992708, 0.947...</td>\n",
       "    </tr>\n",
       "  </tbody>\n",
       "</table>\n",
       "</div>"
      ],
      "text/plain": [
       "                                                       Feature_normalized\n",
       "Gesture Sub folder No.                                                   \n",
       "1       1               [[0.16378520369288252, 0.5334421015070249, 0.9...\n",
       "        2               [[0.17471872658208118, 0.5378476847798014, 0.9...\n",
       "        3               [[0.18216633181606004, 0.5231743019007848, 0.9...\n",
       "        4               [[0.1716376696151291, 0.5519438903924956, 0.94...\n",
       "        5               [[0.167079341578526, 0.5377976506992708, 0.947..."
      ]
     },
     "execution_count": 10,
     "metadata": {},
     "output_type": "execute_result"
    }
   ],
   "source": [
    "dataset = joint_pair_distance_feature_normalized.reset_index().pivot_table(index=['Gesture', 'Sub folder No.'], values=['Feature_normalized'], aggfunc=lambda x: np.vstack(x).tolist()).iloc[:,0]\n",
    "dataset.to_frame().head()"
   ]
  },
  {
   "cell_type": "markdown",
   "metadata": {},
   "source": [
    "### 80% - 20%"
   ]
  },
  {
   "cell_type": "code",
   "execution_count": 11,
   "metadata": {
    "scrolled": false
   },
   "outputs": [
    {
     "name": "stdout",
     "output_type": "stream",
     "text": [
      "80%-20% Train dataset's recording number 118\n",
      "80%-20% Test dataset's recording number 26\n",
      "80%-20% Test label: [1 1 2 2 2 3 3 4 4 4 4 5 5 5 5 6 6 6 6 7 7 7 8 8 8 8]\n"
     ]
    }
   ],
   "source": [
    "msk = np.concatenate([np.random.rand(len(dataset.loc[i])) < 0.8 for i in np.arange(1,gesture_number+1)])\n",
    "train_data_8020 = dataset.iloc[msk]\n",
    "test_data_8020 = dataset.iloc[~msk]\n",
    "print('80%-20% Train dataset\\'s recording number', len(train_data_8020))\n",
    "print('80%-20% Test dataset\\'s recording number', len(test_data_8020))\n",
    "\n",
    "test_label_8020 = test_data_8020.reset_index(0).iloc[:,0].values\n",
    "print('80%-20% Test label:', test_label_8020)"
   ]
  },
  {
   "cell_type": "markdown",
   "metadata": {},
   "source": [
    "### Jack-Knife"
   ]
  },
  {
   "cell_type": "code",
   "execution_count": 12,
   "metadata": {},
   "outputs": [
    {
     "name": "stdout",
     "output_type": "stream",
     "text": [
      "Jack-Knife Train dataset's recording number 120\n",
      "Jack-Knife Test dataset's recording number 24\n",
      "Jack-Knife Test label: [1 1 1 2 2 2 3 3 3 4 4 4 5 5 5 6 6 6 7 7 7 8 8 8]\n"
     ]
    }
   ],
   "source": [
    "train_data_jackknife = pd.concat([dataset[[dataset.index.values[i][0] == j for i in range(len(dataset))]].iloc[pd.np.r_[0:9, 12:18]] for j in range(1,gesture_number+1)])\n",
    "test_data_jackknife = pd.concat([dataset[[dataset.index.values[i][0] == j for i in range(len(dataset))]].iloc[9:12] for j in range(1,gesture_number+1)])\n",
    "print('Jack-Knife Train dataset\\'s recording number', len(train_data_jackknife))\n",
    "print('Jack-Knife Test dataset\\'s recording number', len(test_data_jackknife))\n",
    "\n",
    "test_label_jackknife = test_data_jackknife.reset_index(0).iloc[:,0].values\n",
    "print('Jack-Knife Test label:', test_label_jackknife)"
   ]
  },
  {
   "cell_type": "markdown",
   "metadata": {},
   "source": [
    "## Step 4: Gaussian HMM"
   ]
  },
  {
   "cell_type": "markdown",
   "metadata": {},
   "source": [
    "### 80% - 20%"
   ]
  },
  {
   "cell_type": "code",
   "execution_count": 13,
   "metadata": {},
   "outputs": [
    {
     "name": "stdout",
     "output_type": "stream",
     "text": [
      "80%-20% Gesture 1 Train data shape: (982, 21)\n",
      "80%-20% Gesture 2 Train data shape: (696, 21)\n",
      "80%-20% Gesture 3 Train data shape: (780, 21)\n",
      "80%-20% Gesture 4 Train data shape: (617, 21)\n",
      "80%-20% Gesture 5 Train data shape: (779, 21)\n",
      "80%-20% Gesture 6 Train data shape: (676, 21)\n",
      "80%-20% Gesture 7 Train data shape: (735, 21)\n",
      "80%-20% Gesture 8 Train data shape: (632, 21)\n",
      "\n",
      "80%-20% Gesture 1 Train sequence lengths: [61 62 69 49 54 55 63 62 61 78 73 61 62 56 60 56]\n",
      "80%-20% Gesture 2 Train sequence lengths: [63 49 68 36 36 38 38 37 36 48 57 57 50 42 41]\n",
      "80%-20% Gesture 3 Train sequence lengths: [61 60 63 38 38 39 35 39 48 50 45 64 55 59 45 41]\n",
      "80%-20% Gesture 4 Train sequence lengths: [39 48 43 39 40 40 42 39 45 40 54 61 43 44]\n",
      "80%-20% Gesture 5 Train sequence lengths: [47 52 50 52 52 51 53 60 63 61 59 63 59 57]\n",
      "80%-20% Gesture 6 Train sequence lengths: [42 43 43 45 46 44 47 42 44 61 56 64 51 48]\n",
      "80%-20% Gesture 7 Train sequence lengths: [47 48 50 47 45 42 59 60 44 41 43 51 52 51 55]\n",
      "80%-20% Gesture 8 Train sequence lengths: [45 45 46 45 44 48 47 45 44 46 45 44 45 43]\n",
      "\n"
     ]
    }
   ],
   "source": [
    "hmm_train_data_8020 = [np.vstack(train_data_8020.loc[i].values) for i in range(1, gesture_number+1)]\n",
    "[print('80%%-20%% Gesture %d Train data shape: %s' % (i+1, hmm_train_data_8020[i].shape)) for i in range(gesture_number)]\n",
    "print()\n",
    "hmm_train_lengths_8020 = [train_data_8020.loc[i].apply(len).values for i in range(1, gesture_number+1)]\n",
    "[print('80%%-20%% Gesture %d Train sequence lengths: %s' % (i+1, hmm_train_lengths_8020[i])) for i in range(gesture_number)]\n",
    "print()"
   ]
  },
  {
   "cell_type": "markdown",
   "metadata": {},
   "source": [
    "#### Diag covariance"
   ]
  },
  {
   "cell_type": "code",
   "execution_count": 14,
   "metadata": {
    "scrolled": false
   },
   "outputs": [
    {
     "name": "stdout",
     "output_type": "stream",
     "text": [
      "80%-20%, Diagonal covariance\n",
      "\n",
      "HMM state = 1,\tAccuracy = 1.000,\tRun time = 0.003\n",
      "Label:\t\t[1 1 2 2 2 3 3 4 4 4 4 5 5 5 5 6 6 6 6 7 7 7 8 8 8 8]\n",
      "Prediction:\t[1 1 2 2 2 3 3 4 4 4 4 5 5 5 5 6 6 6 6 7 7 7 8 8 8 8]\n",
      "\n",
      "HMM state = 3,\tAccuracy = 1.000,\tRun time = 0.003\n",
      "Label:\t\t[1 1 2 2 2 3 3 4 4 4 4 5 5 5 5 6 6 6 6 7 7 7 8 8 8 8]\n",
      "Prediction:\t[1 1 2 2 2 3 3 4 4 4 4 5 5 5 5 6 6 6 6 7 7 7 8 8 8 8]\n",
      "\n",
      "HMM state = 5,\tAccuracy = 0.962,\tRun time = 0.003\n",
      "Label:\t\t[1 1 2 2 2 3 3 4 4 4 4 5 5 5 5 6 6 6 6 7 7 7 8 8 8 8]\n",
      "Prediction:\t[1 1 2 2 2 3 3 4 4 4 4 5 6 5 5 6 6 6 6 7 7 7 8 8 8 8]\n",
      "\n",
      "HMM state = 7,\tAccuracy = 1.000,\tRun time = 0.004\n",
      "Label:\t\t[1 1 2 2 2 3 3 4 4 4 4 5 5 5 5 6 6 6 6 7 7 7 8 8 8 8]\n",
      "Prediction:\t[1 1 2 2 2 3 3 4 4 4 4 5 5 5 5 6 6 6 6 7 7 7 8 8 8 8]\n",
      "\n",
      "HMM state = 9,\tAccuracy = 0.962,\tRun time = 0.004\n",
      "Label:\t\t[1 1 2 2 2 3 3 4 4 4 4 5 5 5 5 6 6 6 6 7 7 7 8 8 8 8]\n",
      "Prediction:\t[1 1 2 2 2 3 3 4 4 4 4 5 6 5 5 6 6 6 6 7 7 7 8 8 8 8]\n",
      "\n",
      "HMM state = 11,\tAccuracy = 1.000,\tRun time = 0.005\n",
      "Label:\t\t[1 1 2 2 2 3 3 4 4 4 4 5 5 5 5 6 6 6 6 7 7 7 8 8 8 8]\n",
      "Prediction:\t[1 1 2 2 2 3 3 4 4 4 4 5 5 5 5 6 6 6 6 7 7 7 8 8 8 8]\n",
      "\n",
      "HMM state = 13,\tAccuracy = 1.000,\tRun time = 0.005\n",
      "Label:\t\t[1 1 2 2 2 3 3 4 4 4 4 5 5 5 5 6 6 6 6 7 7 7 8 8 8 8]\n",
      "Prediction:\t[1 1 2 2 2 3 3 4 4 4 4 5 5 5 5 6 6 6 6 7 7 7 8 8 8 8]\n",
      "\n",
      "HMM state = 15,\tAccuracy = 1.000,\tRun time = 0.006\n",
      "Label:\t\t[1 1 2 2 2 3 3 4 4 4 4 5 5 5 5 6 6 6 6 7 7 7 8 8 8 8]\n",
      "Prediction:\t[1 1 2 2 2 3 3 4 4 4 4 5 5 5 5 6 6 6 6 7 7 7 8 8 8 8]\n",
      "\n"
     ]
    },
    {
     "name": "stderr",
     "output_type": "stream",
     "text": [
      "Some rows of transmat_ have zero sum because no transition from the state was ever observed.\n"
     ]
    },
    {
     "name": "stdout",
     "output_type": "stream",
     "text": [
      "HMM state = 17,\tAccuracy = 0.846,\tRun time = 0.006\n",
      "Label:\t\t[1 1 2 2 2 3 3 4 4 4 4 5 5 5 5 6 6 6 6 7 7 7 8 8 8 8]\n",
      "Prediction:\t[1 1 2 2 2 3 3 4 4 4 4 5 5 5 5 6 6 6 6 7 7 7 7 7 5 3]\n",
      "\n"
     ]
    },
    {
     "name": "stderr",
     "output_type": "stream",
     "text": [
      "Some rows of transmat_ have zero sum because no transition from the state was ever observed.\n"
     ]
    },
    {
     "name": "stdout",
     "output_type": "stream",
     "text": [
      "HMM state = 19,\tAccuracy = 0.846,\tRun time = 0.007\n",
      "Label:\t\t[1 1 2 2 2 3 3 4 4 4 4 5 5 5 5 6 6 6 6 7 7 7 8 8 8 8]\n",
      "Prediction:\t[1 1 2 2 2 3 3 4 4 4 4 5 5 5 5 6 6 6 6 7 7 7 7 7 5 3]\n",
      "\n",
      "HMM state = 21,\tAccuracy = 1.000,\tRun time = 0.009\n",
      "Label:\t\t[1 1 2 2 2 3 3 4 4 4 4 5 5 5 5 6 6 6 6 7 7 7 8 8 8 8]\n",
      "Prediction:\t[1 1 2 2 2 3 3 4 4 4 4 5 5 5 5 6 6 6 6 7 7 7 8 8 8 8]\n",
      "\n"
     ]
    },
    {
     "name": "stderr",
     "output_type": "stream",
     "text": [
      "Some rows of transmat_ have zero sum because no transition from the state was ever observed.\n",
      "Some rows of transmat_ have zero sum because no transition from the state was ever observed.\n"
     ]
    },
    {
     "name": "stdout",
     "output_type": "stream",
     "text": [
      "HMM state = 23,\tAccuracy = 0.769,\tRun time = 0.008\n",
      "Label:\t\t[1 1 2 2 2 3 3 4 4 4 4 5 5 5 5 6 6 6 6 7 7 7 8 8 8 8]\n",
      "Prediction:\t[1 1 2 2 2 7 7 4 4 4 4 5 5 5 5 6 6 6 6 7 7 7 7 7 5 6]\n",
      "\n",
      "HMM state = 25,\tAccuracy = 1.000,\tRun time = 0.012\n",
      "Label:\t\t[1 1 2 2 2 3 3 4 4 4 4 5 5 5 5 6 6 6 6 7 7 7 8 8 8 8]\n",
      "Prediction:\t[1 1 2 2 2 3 3 4 4 4 4 5 5 5 5 6 6 6 6 7 7 7 8 8 8 8]\n",
      "\n"
     ]
    }
   ],
   "source": [
    "print('80%-20%, Diagonal covariance\\n')\n",
    "\n",
    "hmm_state = range(1,27,2)\n",
    "\n",
    "accuracy = []\n",
    "best_accuracy = 0\n",
    "\n",
    "for state in hmm_state:\n",
    "    hmm_model = []\n",
    "    # Train a HMM model using time sequences of training, train one HMM model for each gesture\n",
    "    for i in range(gesture_number):\n",
    "        hmm_model.append(hmm.GaussianHMM(n_components=state, covariance_type='diag').fit(hmm_train_data_8020[i], lengths=hmm_train_lengths_8020[i]))\n",
    "\n",
    "    # After training HMM models, use them to classify each time sequence of testing\n",
    "    scores = np.empty((0,gesture_number))\n",
    "    \n",
    "    start_time = time()\n",
    "    for sequence in test_data_8020.values:\n",
    "        score = np.empty(gesture_number)\n",
    "        for k in range(gesture_number):\n",
    "            try:\n",
    "                score[k] = hmm_model[k].score(sequence)\n",
    "            except:\n",
    "                score[k] = -99999\n",
    "        scores = np.vstack((scores, score))\n",
    "    test_predict = np.argmax(scores, axis=1) + 1\n",
    "    end_time = time()\n",
    "    run_time = (end_time - start_time) / len(test_label_8020)\n",
    "    \n",
    "    accuracy.append(np.sum(test_predict == test_label_8020) / len(test_label_8020))\n",
    "    print('HMM state = %d,\\tAccuracy = %.3f,\\tRun time = %.3f\\nLabel:\\t\\t%s\\nPrediction:\\t%s\\n' % (state, accuracy[-1], run_time, test_label_8020, test_predict))\n",
    "    \n",
    "    # Save the best accuracy information for further analysis\n",
    "    if accuracy[-1] > best_accuracy:\n",
    "        best_accuracy = accuracy[-1]\n",
    "        best_hmm_state = state\n",
    "        best_test_predict = test_predict"
   ]
  },
  {
   "cell_type": "code",
   "execution_count": 15,
   "metadata": {
    "scrolled": false
   },
   "outputs": [
    {
     "data": {
      "image/png": "[encoded data removed]",
      "text/plain": [
       "<Figure size 432x288 with 1 Axes>"
      ]
     },
     "metadata": {
      "needs_background": "light"
     },
     "output_type": "display_data"
    }
   ],
   "source": [
    "fig1 = plt.figure()\n",
    "plt.title('80%-20%')\n",
    "plt.plot(hmm_state, accuracy)\n",
    "plt.xticks(hmm_state)\n",
    "plt.xlabel('HMM state')\n",
    "plt.ylabel('Accuracy')\n",
    "plt.show()"
   ]
  },
  {
   "cell_type": "code",
   "execution_count": 16,
   "metadata": {
    "scrolled": false
   },
   "outputs": [
    {
     "name": "stdout",
     "output_type": "stream",
     "text": [
      "80%-20%, Diagonal covariance\n",
      "\n",
      "Best accuracy occurs when:\n",
      "HMM state = 1,\t\tBest accuracy = 1.000\n",
      "\n",
      "Classification Report:\n",
      "               precision    recall  f1-score   support\n",
      "\n",
      "           1       1.00      1.00      1.00         2\n",
      "           2       1.00      1.00      1.00         3\n",
      "           3       1.00      1.00      1.00         2\n",
      "           4       1.00      1.00      1.00         4\n",
      "           5       1.00      1.00      1.00         4\n",
      "           6       1.00      1.00      1.00         4\n",
      "           7       1.00      1.00      1.00         3\n",
      "           8       1.00      1.00      1.00         4\n",
      "\n",
      "    accuracy                           1.00        26\n",
      "   macro avg       1.00      1.00      1.00        26\n",
      "weighted avg       1.00      1.00      1.00        26\n",
      "\n",
      "Confusion Matrix:\n",
      " [[2 0 0 0 0 0 0 0]\n",
      " [0 3 0 0 0 0 0 0]\n",
      " [0 0 2 0 0 0 0 0]\n",
      " [0 0 0 4 0 0 0 0]\n",
      " [0 0 0 0 4 0 0 0]\n",
      " [0 0 0 0 0 4 0 0]\n",
      " [0 0 0 0 0 0 3 0]\n",
      " [0 0 0 0 0 0 0 4]]\n"
     ]
    }
   ],
   "source": [
    "print('80%-20%, Diagonal covariance\\n')\n",
    "print('Best accuracy occurs when:\\nHMM state = %d,\\t\\tBest accuracy = %.3f\\n' % (best_hmm_state, best_accuracy))\n",
    "print('Classification Report:\\n', classification_report(test_label_8020, best_test_predict))\n",
    "print('Confusion Matrix:\\n', confusion_matrix(test_label_8020, best_test_predict))"
   ]
  },
  {
   "cell_type": "markdown",
   "metadata": {},
   "source": [
    "#### Full covariance"
   ]
  },
  {
   "cell_type": "code",
   "execution_count": 17,
   "metadata": {
    "scrolled": false
   },
   "outputs": [
    {
     "name": "stdout",
     "output_type": "stream",
     "text": [
      "80%-20%, Full covariance\n",
      "\n",
      "HMM state = 1,\tAccuracy = 1.000,\tRun time = 0.004\n",
      "Label:\t\t[1 1 2 2 2 3 3 4 4 4 4 5 5 5 5 6 6 6 6 7 7 7 8 8 8 8]\n",
      "Prediction:\t[1 1 2 2 2 3 3 4 4 4 4 5 5 5 5 6 6 6 6 7 7 7 8 8 8 8]\n",
      "\n",
      "HMM state = 3,\tAccuracy = 1.000,\tRun time = 0.006\n",
      "Label:\t\t[1 1 2 2 2 3 3 4 4 4 4 5 5 5 5 6 6 6 6 7 7 7 8 8 8 8]\n",
      "Prediction:\t[1 1 2 2 2 3 3 4 4 4 4 5 5 5 5 6 6 6 6 7 7 7 8 8 8 8]\n",
      "\n",
      "HMM state = 5,\tAccuracy = 0.962,\tRun time = 0.009\n",
      "Label:\t\t[1 1 2 2 2 3 3 4 4 4 4 5 5 5 5 6 6 6 6 7 7 7 8 8 8 8]\n",
      "Prediction:\t[1 1 2 2 2 3 3 4 4 4 1 5 5 5 5 6 6 6 6 7 7 7 8 8 8 8]\n",
      "\n",
      "HMM state = 7,\tAccuracy = 0.962,\tRun time = 0.012\n",
      "Label:\t\t[1 1 2 2 2 3 3 4 4 4 4 5 5 5 5 6 6 6 6 7 7 7 8 8 8 8]\n",
      "Prediction:\t[1 1 2 2 2 7 3 4 4 4 4 5 5 5 5 6 6 6 6 7 7 7 8 8 8 8]\n",
      "\n",
      "HMM state = 9,\tAccuracy = 1.000,\tRun time = 0.013\n",
      "Label:\t\t[1 1 2 2 2 3 3 4 4 4 4 5 5 5 5 6 6 6 6 7 7 7 8 8 8 8]\n",
      "Prediction:\t[1 1 2 2 2 3 3 4 4 4 4 5 5 5 5 6 6 6 6 7 7 7 8 8 8 8]\n",
      "\n",
      "HMM state = 11,\tAccuracy = 0.962,\tRun time = 0.018\n",
      "Label:\t\t[1 1 2 2 2 3 3 4 4 4 4 5 5 5 5 6 6 6 6 7 7 7 8 8 8 8]\n",
      "Prediction:\t[1 1 2 2 2 3 3 4 4 4 4 5 5 5 5 6 6 6 6 7 7 7 8 8 8 4]\n",
      "\n",
      "HMM state = 13,\tAccuracy = 0.962,\tRun time = 0.019\n",
      "Label:\t\t[1 1 2 2 2 3 3 4 4 4 4 5 5 5 5 6 6 6 6 7 7 7 8 8 8 8]\n",
      "Prediction:\t[1 1 2 2 2 3 3 4 4 4 4 5 5 5 5 6 6 6 6 7 7 7 3 8 8 8]\n",
      "\n",
      "HMM state = 15,\tAccuracy = 0.808,\tRun time = 0.024\n",
      "Label:\t\t[1 1 2 2 2 3 3 4 4 4 4 5 5 5 5 6 6 6 6 7 7 7 8 8 8 8]\n",
      "Prediction:\t[1 1 2 2 2 1 3 4 4 4 1 1 1 5 5 6 6 6 6 7 7 7 8 8 6 8]\n",
      "\n",
      "HMM state = 17,\tAccuracy = 0.769,\tRun time = 0.026\n",
      "Label:\t\t[1 1 2 2 2 3 3 4 4 4 4 5 5 5 5 6 6 6 6 7 7 7 8 8 8 8]\n",
      "Prediction:\t[1 1 2 2 2 1 3 4 4 4 4 5 1 5 5 6 6 6 6 7 7 7 3 6 6 3]\n",
      "\n",
      "HMM state = 19,\tAccuracy = 0.769,\tRun time = 0.029\n",
      "Label:\t\t[1 1 2 2 2 3 3 4 4 4 4 5 5 5 5 6 6 6 6 7 7 7 8 8 8 8]\n",
      "Prediction:\t[1 1 2 2 2 1 3 4 4 4 1 5 5 5 5 6 6 6 6 7 7 7 3 6 6 3]\n",
      "\n",
      "HMM state = 21,\tAccuracy = 0.808,\tRun time = 0.034\n",
      "Label:\t\t[1 1 2 2 2 3 3 4 4 4 4 5 5 5 5 6 6 6 6 7 7 7 8 8 8 8]\n",
      "Prediction:\t[1 1 2 2 2 3 3 4 4 4 5 5 5 5 5 6 6 6 6 7 7 7 6 6 6 6]\n",
      "\n",
      "HMM state = 23,\tAccuracy = 0.654,\tRun time = 0.037\n",
      "Label:\t\t[1 1 2 2 2 3 3 4 4 4 4 5 5 5 5 6 6 6 6 7 7 7 8 8 8 8]\n",
      "Prediction:\t[1 1 2 2 2 1 3 4 4 4 1 5 5 5 5 6 6 6 6 1 3 1 3 3 6 6]\n",
      "\n",
      "HMM state = 25,\tAccuracy = 0.808,\tRun time = 0.048\n",
      "Label:\t\t[1 1 2 2 2 3 3 4 4 4 4 5 5 5 5 6 6 6 6 7 7 7 8 8 8 8]\n",
      "Prediction:\t[1 1 2 2 2 3 3 4 4 4 5 5 5 5 5 6 6 6 6 7 7 7 6 6 6 6]\n",
      "\n"
     ]
    }
   ],
   "source": [
    "print('80%-20%, Full covariance\\n')\n",
    "\n",
    "hmm_state = range(1,27,2)\n",
    "\n",
    "accuracy = []\n",
    "best_accuracy = 0\n",
    "\n",
    "for state in hmm_state:\n",
    "    hmm_model = []\n",
    "    # Train a HMM model using time sequences of training, train one HMM model for each gesture\n",
    "    for i in range(gesture_number):\n",
    "        hmm_model.append(hmm.GaussianHMM(n_components=state, covariance_type='full').fit(hmm_train_data_8020[i], lengths=hmm_train_lengths_8020[i]))\n",
    "\n",
    "    # After training HMM models, use them to classify each time sequence of testing\n",
    "    scores = np.empty((0,gesture_number))\n",
    "    \n",
    "    start_time = time()\n",
    "    for sequence in test_data_8020.values:\n",
    "        score = np.empty(gesture_number)\n",
    "        for k in range(gesture_number):\n",
    "            try:\n",
    "                score[k] = hmm_model[k].score(sequence)\n",
    "            except:\n",
    "                score[k] = -99999\n",
    "        scores = np.vstack((scores, score))\n",
    "    test_predict = np.argmax(scores, axis=1) + 1\n",
    "    end_time = time()\n",
    "    run_time = (end_time - start_time) / len(test_label_8020)\n",
    "    \n",
    "    accuracy.append(np.sum(test_predict == test_label_8020) / len(test_label_8020))\n",
    "    print('HMM state = %d,\\tAccuracy = %.3f,\\tRun time = %.3f\\nLabel:\\t\\t%s\\nPrediction:\\t%s\\n' % (state, accuracy[-1], run_time, test_label_8020, test_predict))\n",
    "    \n",
    "    # Save the best accuracy information for further analysis\n",
    "    if accuracy[-1] > best_accuracy:\n",
    "        best_accuracy = accuracy[-1]\n",
    "        best_hmm_state = state\n",
    "        best_test_predict = test_predict"
   ]
  },
  {
   "cell_type": "code",
   "execution_count": 18,
   "metadata": {
    "scrolled": false
   },
   "outputs": [
    {
     "data": {
      "image/png": "[encoded data removed]",
      "text/plain": [
       "<Figure size 432x288 with 1 Axes>"
      ]
     },
     "metadata": {
      "needs_background": "light"
     },
     "output_type": "display_data"
    }
   ],
   "source": [
    "plt.plot(hmm_state, accuracy)\n",
    "plt.xticks(hmm_state)\n",
    "plt.xlabel('HMM state')\n",
    "plt.ylabel('Accuracy')\n",
    "plt.legend(['Diag', 'Full'])\n",
    "plt.show()"
   ]
  },
  {
   "cell_type": "code",
   "execution_count": 19,
   "metadata": {
    "scrolled": false
   },
   "outputs": [
    {
     "name": "stdout",
     "output_type": "stream",
     "text": [
      "80%-20%, Full covariance\n",
      "\n",
      "Best accuracy occurs when:\n",
      "HMM state = 1,\t\tBest accuracy = 1.000\n",
      "\n",
      "Classification Report:\n",
      "               precision    recall  f1-score   support\n",
      "\n",
      "           1       1.00      1.00      1.00         2\n",
      "           2       1.00      1.00      1.00         3\n",
      "           3       1.00      1.00      1.00         2\n",
      "           4       1.00      1.00      1.00         4\n",
      "           5       1.00      1.00      1.00         4\n",
      "           6       1.00      1.00      1.00         4\n",
      "           7       1.00      1.00      1.00         3\n",
      "           8       1.00      1.00      1.00         4\n",
      "\n",
      "    accuracy                           1.00        26\n",
      "   macro avg       1.00      1.00      1.00        26\n",
      "weighted avg       1.00      1.00      1.00        26\n",
      "\n",
      "Confusion Matrix:\n",
      " [[2 0 0 0 0 0 0 0]\n",
      " [0 3 0 0 0 0 0 0]\n",
      " [0 0 2 0 0 0 0 0]\n",
      " [0 0 0 4 0 0 0 0]\n",
      " [0 0 0 0 4 0 0 0]\n",
      " [0 0 0 0 0 4 0 0]\n",
      " [0 0 0 0 0 0 3 0]\n",
      " [0 0 0 0 0 0 0 4]]\n"
     ]
    }
   ],
   "source": [
    "print('80%-20%, Full covariance\\n')\n",
    "print('Best accuracy occurs when:\\nHMM state = %d,\\t\\tBest accuracy = %.3f\\n' % (best_hmm_state, best_accuracy))\n",
    "print('Classification Report:\\n', classification_report(test_label_8020, best_test_predict))\n",
    "print('Confusion Matrix:\\n', confusion_matrix(test_label_8020, best_test_predict))"
   ]
  },
  {
   "cell_type": "markdown",
   "metadata": {},
   "source": [
    "### Jack-Knife"
   ]
  },
  {
   "cell_type": "code",
   "execution_count": 20,
   "metadata": {},
   "outputs": [
    {
     "name": "stdout",
     "output_type": "stream",
     "text": [
      "Jack-Knife Gesture 1 Train data shape: (892, 21)\n",
      "Jack-Knife Gesture 2 Train data shape: (692, 21)\n",
      "Jack-Knife Gesture 3 Train data shape: (721, 21)\n",
      "Jack-Knife Gesture 4 Train data shape: (697, 21)\n",
      "Jack-Knife Gesture 5 Train data shape: (825, 21)\n",
      "Jack-Knife Gesture 6 Train data shape: (726, 21)\n",
      "Jack-Knife Gesture 7 Train data shape: (769, 21)\n",
      "Jack-Knife Gesture 8 Train data shape: (681, 21)\n",
      "\n",
      "Jack-Knife Gesture 1 Train sequence lengths: [61 62 69 49 54 55 63 62 61 61 61 62 56 60 56]\n",
      "Jack-Knife Gesture 2 Train sequence lengths: [63 49 68 36 36 38 38 37 36 57 59 50 42 42 41]\n",
      "Jack-Knife Gesture 3 Train sequence lengths: [61 60 63 38 38 39 35 36 39 64 55 59 45 41 48]\n",
      "Jack-Knife Gesture 4 Train sequence lengths: [46 39 48 43 39 40 40 42 39 54 61 63 56 43 44]\n",
      "Jack-Knife Gesture 5 Train sequence lengths: [47 52 50 54 52 55 52 51 53 59 63 63 59 57 58]\n",
      "Jack-Knife Gesture 6 Train sequence lengths: [42 43 43 45 46 44 43 47 42 61 56 64 51 51 48]\n",
      "Jack-Knife Gesture 7 Train sequence lengths: [47 48 50 47 45 42 59 60 55 52 51 52 51 55 55]\n",
      "Jack-Knife Gesture 8 Train sequence lengths: [45 45 45 46 47 47 45 44 48 46 46 45 44 45 43]\n",
      "\n"
     ]
    }
   ],
   "source": [
    "hmm_train_data_jackknife = [np.vstack(train_data_jackknife.loc[i].values) for i in range(1, gesture_number+1)]\n",
    "[print('Jack-Knife Gesture %d Train data shape: %s' % (i+1, hmm_train_data_jackknife[i].shape)) for i in range(gesture_number)]\n",
    "print()\n",
    "hmm_train_lengths_jackknife = [train_data_jackknife.loc[i].apply(len).values for i in range(1, gesture_number+1)]\n",
    "[print('Jack-Knife Gesture %d Train sequence lengths: %s' % (i+1, hmm_train_lengths_jackknife[i])) for i in range(gesture_number)]\n",
    "print()"
   ]
  },
  {
   "cell_type": "markdown",
   "metadata": {},
   "source": [
    "#### Diag covariance"
   ]
  },
  {
   "cell_type": "code",
   "execution_count": 21,
   "metadata": {
    "scrolled": false
   },
   "outputs": [
    {
     "name": "stdout",
     "output_type": "stream",
     "text": [
      "Jack-Knife, Diagonal covariance\n",
      "\n",
      "HMM state = 1,\tAccuracy = 1.000,\tRun time = 0.003\n",
      "Label:\t\t[1 1 1 2 2 2 3 3 3 4 4 4 5 5 5 6 6 6 7 7 7 8 8 8]\n",
      "Prediction:\t[1 1 1 2 2 2 3 3 3 4 4 4 5 5 5 6 6 6 7 7 7 8 8 8]\n",
      "\n",
      "HMM state = 3,\tAccuracy = 1.000,\tRun time = 0.003\n",
      "Label:\t\t[1 1 1 2 2 2 3 3 3 4 4 4 5 5 5 6 6 6 7 7 7 8 8 8]\n",
      "Prediction:\t[1 1 1 2 2 2 3 3 3 4 4 4 5 5 5 6 6 6 7 7 7 8 8 8]\n",
      "\n",
      "HMM state = 5,\tAccuracy = 1.000,\tRun time = 0.004\n",
      "Label:\t\t[1 1 1 2 2 2 3 3 3 4 4 4 5 5 5 6 6 6 7 7 7 8 8 8]\n",
      "Prediction:\t[1 1 1 2 2 2 3 3 3 4 4 4 5 5 5 6 6 6 7 7 7 8 8 8]\n",
      "\n",
      "HMM state = 7,\tAccuracy = 1.000,\tRun time = 0.004\n",
      "Label:\t\t[1 1 1 2 2 2 3 3 3 4 4 4 5 5 5 6 6 6 7 7 7 8 8 8]\n",
      "Prediction:\t[1 1 1 2 2 2 3 3 3 4 4 4 5 5 5 6 6 6 7 7 7 8 8 8]\n",
      "\n",
      "HMM state = 9,\tAccuracy = 1.000,\tRun time = 0.004\n",
      "Label:\t\t[1 1 1 2 2 2 3 3 3 4 4 4 5 5 5 6 6 6 7 7 7 8 8 8]\n",
      "Prediction:\t[1 1 1 2 2 2 3 3 3 4 4 4 5 5 5 6 6 6 7 7 7 8 8 8]\n",
      "\n",
      "HMM state = 11,\tAccuracy = 0.917,\tRun time = 0.005\n",
      "Label:\t\t[1 1 1 2 2 2 3 3 3 4 4 4 5 5 5 6 6 6 7 7 7 8 8 8]\n",
      "Prediction:\t[1 1 1 2 2 2 3 3 3 4 4 4 5 5 5 6 6 6 7 7 7 1 7 8]\n",
      "\n",
      "HMM state = 13,\tAccuracy = 0.875,\tRun time = 0.005\n",
      "Label:\t\t[1 1 1 2 2 2 3 3 3 4 4 4 5 5 5 6 6 6 7 7 7 8 8 8]\n",
      "Prediction:\t[1 1 1 2 2 2 3 3 3 4 4 4 5 5 5 6 6 6 7 7 7 1 7 1]\n",
      "\n",
      "HMM state = 15,\tAccuracy = 0.875,\tRun time = 0.006\n",
      "Label:\t\t[1 1 1 2 2 2 3 3 3 4 4 4 5 5 5 6 6 6 7 7 7 8 8 8]\n",
      "Prediction:\t[1 1 1 2 2 2 3 3 3 4 4 4 5 5 5 6 6 6 7 7 7 1 7 1]\n",
      "\n",
      "HMM state = 17,\tAccuracy = 0.833,\tRun time = 0.007\n",
      "Label:\t\t[1 1 1 2 2 2 3 3 3 4 4 4 5 5 5 6 6 6 7 7 7 8 8 8]\n",
      "Prediction:\t[1 1 1 2 2 2 3 3 3 4 4 4 5 6 5 6 6 6 7 7 7 1 1 1]\n",
      "\n",
      "HMM state = 19,\tAccuracy = 0.875,\tRun time = 0.008\n",
      "Label:\t\t[1 1 1 2 2 2 3 3 3 4 4 4 5 5 5 6 6 6 7 7 7 8 8 8]\n",
      "Prediction:\t[1 1 1 2 2 2 3 3 3 4 4 4 5 5 5 6 6 6 7 7 7 1 1 1]\n",
      "\n",
      "HMM state = 21,\tAccuracy = 0.875,\tRun time = 0.010\n",
      "Label:\t\t[1 1 1 2 2 2 3 3 3 4 4 4 5 5 5 6 6 6 7 7 7 8 8 8]\n",
      "Prediction:\t[1 1 1 2 2 2 3 3 3 4 4 4 5 5 5 6 6 6 7 7 7 1 7 1]\n",
      "\n",
      "HMM state = 23,\tAccuracy = 0.875,\tRun time = 0.010\n",
      "Label:\t\t[1 1 1 2 2 2 3 3 3 4 4 4 5 5 5 6 6 6 7 7 7 8 8 8]\n",
      "Prediction:\t[1 1 1 2 2 2 3 3 3 4 4 4 5 5 5 6 6 6 7 7 7 1 1 1]\n",
      "\n",
      "HMM state = 25,\tAccuracy = 0.875,\tRun time = 0.011\n",
      "Label:\t\t[1 1 1 2 2 2 3 3 3 4 4 4 5 5 5 6 6 6 7 7 7 8 8 8]\n",
      "Prediction:\t[1 1 1 2 2 2 3 3 3 4 4 4 5 5 5 6 6 6 7 7 7 1 1 1]\n",
      "\n"
     ]
    }
   ],
   "source": [
    "print('Jack-Knife, Diagonal covariance\\n')\n",
    "\n",
    "hmm_state = range(1,27,2)\n",
    "\n",
    "accuracy = []\n",
    "best_accuracy = 0\n",
    "\n",
    "for state in hmm_state:\n",
    "    hmm_model = []\n",
    "    # Train a HMM model using time sequences of training, train one HMM model for each gesture\n",
    "    for i in range(gesture_number):\n",
    "        hmm_model.append(hmm.GaussianHMM(n_components=state, covariance_type='diag').fit(hmm_train_data_jackknife[i], lengths=hmm_train_lengths_jackknife[i]))\n",
    "\n",
    "    # After training HMM models, use them to classify each time sequence of testing\n",
    "    scores = np.empty((0,gesture_number))\n",
    "    \n",
    "    start_time = time()\n",
    "    for sequence in test_data_jackknife.values:\n",
    "        score = np.empty(gesture_number)\n",
    "        for k in range(gesture_number):\n",
    "            try:\n",
    "                score[k] = hmm_model[k].score(sequence)\n",
    "            except:\n",
    "                score[k] = -99999\n",
    "        scores = np.vstack((scores, score))\n",
    "    test_predict = np.argmax(scores, axis=1) + 1\n",
    "    end_time = time()\n",
    "    run_time = (end_time - start_time) / len(test_label_jackknife)\n",
    "    \n",
    "    accuracy.append(np.sum(test_predict == test_label_jackknife) / len(test_label_jackknife))\n",
    "    print('HMM state = %d,\\tAccuracy = %.3f,\\tRun time = %.3f\\nLabel:\\t\\t%s\\nPrediction:\\t%s\\n' % (state, accuracy[-1], run_time, test_label_jackknife, test_predict))\n",
    "    \n",
    "    # Save the best accuracy information for further analysis\n",
    "    if accuracy[-1] > best_accuracy:\n",
    "        best_accuracy = accuracy[-1]\n",
    "        best_hmm_state = state\n",
    "        best_test_predict = test_predict"
   ]
  },
  {
   "cell_type": "code",
   "execution_count": 22,
   "metadata": {
    "scrolled": false
   },
   "outputs": [
    {
     "data": {
      "image/png": "[encoded data removed]",
      "text/plain": [
       "<Figure size 432x288 with 1 Axes>"
      ]
     },
     "metadata": {
      "needs_background": "light"
     },
     "output_type": "display_data"
    }
   ],
   "source": [
    "fig2 = plt.figure()\n",
    "plt.title('Jack-Knife')\n",
    "plt.plot(hmm_state, accuracy)\n",
    "plt.xticks(hmm_state)\n",
    "plt.xlabel('HMM state')\n",
    "plt.ylabel('Accuracy')\n",
    "plt.legend('Diag')\n",
    "plt.show()"
   ]
  },
  {
   "cell_type": "code",
   "execution_count": 23,
   "metadata": {
    "scrolled": false
   },
   "outputs": [
    {
     "name": "stdout",
     "output_type": "stream",
     "text": [
      "Jack-Knife, Diagonal covariance\n",
      "\n",
      "Best accuracy occurs when:\n",
      "HMM state = 1,\t\tBest accuracy = 1.000\n",
      "\n",
      "Classification Report:\n",
      "               precision    recall  f1-score   support\n",
      "\n",
      "           1       1.00      1.00      1.00         3\n",
      "           2       1.00      1.00      1.00         3\n",
      "           3       1.00      1.00      1.00         3\n",
      "           4       1.00      1.00      1.00         3\n",
      "           5       1.00      1.00      1.00         3\n",
      "           6       1.00      1.00      1.00         3\n",
      "           7       1.00      1.00      1.00         3\n",
      "           8       1.00      1.00      1.00         3\n",
      "\n",
      "    accuracy                           1.00        24\n",
      "   macro avg       1.00      1.00      1.00        24\n",
      "weighted avg       1.00      1.00      1.00        24\n",
      "\n",
      "Confusion Matrix:\n",
      " [[3 0 0 0 0 0 0 0]\n",
      " [0 3 0 0 0 0 0 0]\n",
      " [0 0 3 0 0 0 0 0]\n",
      " [0 0 0 3 0 0 0 0]\n",
      " [0 0 0 0 3 0 0 0]\n",
      " [0 0 0 0 0 3 0 0]\n",
      " [0 0 0 0 0 0 3 0]\n",
      " [0 0 0 0 0 0 0 3]]\n"
     ]
    }
   ],
   "source": [
    "print('Jack-Knife, Diagonal covariance\\n')\n",
    "print('Best accuracy occurs when:\\nHMM state = %d,\\t\\tBest accuracy = %.3f\\n' % (best_hmm_state, best_accuracy))\n",
    "print('Classification Report:\\n', classification_report(test_label_jackknife, best_test_predict))\n",
    "print('Confusion Matrix:\\n', confusion_matrix(test_label_jackknife, best_test_predict))"
   ]
  },
  {
   "cell_type": "markdown",
   "metadata": {},
   "source": [
    "#### Full covariance"
   ]
  },
  {
   "cell_type": "code",
   "execution_count": 24,
   "metadata": {
    "scrolled": false
   },
   "outputs": [
    {
     "name": "stdout",
     "output_type": "stream",
     "text": [
      "Jack-Knife, Full covariance\n",
      "\n",
      "HMM state = 1,\tAccuracy = 1.000,\tRun time = 0.005\n",
      "Label:\t\t[1 1 1 2 2 2 3 3 3 4 4 4 5 5 5 6 6 6 7 7 7 8 8 8]\n",
      "Prediction:\t[1 1 1 2 2 2 3 3 3 4 4 4 5 5 5 6 6 6 7 7 7 8 8 8]\n",
      "\n",
      "HMM state = 3,\tAccuracy = 1.000,\tRun time = 0.007\n",
      "Label:\t\t[1 1 1 2 2 2 3 3 3 4 4 4 5 5 5 6 6 6 7 7 7 8 8 8]\n",
      "Prediction:\t[1 1 1 2 2 2 3 3 3 4 4 4 5 5 5 6 6 6 7 7 7 8 8 8]\n",
      "\n",
      "HMM state = 5,\tAccuracy = 0.917,\tRun time = 0.009\n",
      "Label:\t\t[1 1 1 2 2 2 3 3 3 4 4 4 5 5 5 6 6 6 7 7 7 8 8 8]\n",
      "Prediction:\t[1 1 1 2 2 2 7 7 3 4 4 4 5 5 5 6 6 6 7 7 7 8 8 8]\n",
      "\n",
      "HMM state = 7,\tAccuracy = 1.000,\tRun time = 0.011\n",
      "Label:\t\t[1 1 1 2 2 2 3 3 3 4 4 4 5 5 5 6 6 6 7 7 7 8 8 8]\n",
      "Prediction:\t[1 1 1 2 2 2 3 3 3 4 4 4 5 5 5 6 6 6 7 7 7 8 8 8]\n",
      "\n",
      "HMM state = 9,\tAccuracy = 0.958,\tRun time = 0.013\n",
      "Label:\t\t[1 1 1 2 2 2 3 3 3 4 4 4 5 5 5 6 6 6 7 7 7 8 8 8]\n",
      "Prediction:\t[1 1 1 2 2 2 3 3 3 4 5 4 5 5 5 6 6 6 7 7 7 8 8 8]\n",
      "\n",
      "HMM state = 11,\tAccuracy = 0.792,\tRun time = 0.016\n",
      "Label:\t\t[1 1 1 2 2 2 3 3 3 4 4 4 5 5 5 6 6 6 7 7 7 8 8 8]\n",
      "Prediction:\t[1 1 1 2 2 2 3 3 3 4 4 4 5 5 5 6 6 6 6 7 6 1 1 1]\n",
      "\n",
      "HMM state = 13,\tAccuracy = 0.833,\tRun time = 0.018\n",
      "Label:\t\t[1 1 1 2 2 2 3 3 3 4 4 4 5 5 5 6 6 6 7 7 7 8 8 8]\n",
      "Prediction:\t[1 1 1 2 2 2 3 3 3 4 4 4 5 5 5 6 6 6 6 7 7 1 1 1]\n",
      "\n",
      "HMM state = 15,\tAccuracy = 0.792,\tRun time = 0.022\n",
      "Label:\t\t[1 1 1 2 2 2 3 3 3 4 4 4 5 5 5 6 6 6 7 7 7 8 8 8]\n",
      "Prediction:\t[1 1 1 2 2 2 3 3 3 4 4 4 5 5 5 6 6 6 6 7 6 1 1 5]\n",
      "\n",
      "HMM state = 17,\tAccuracy = 0.583,\tRun time = 0.024\n",
      "Label:\t\t[1 1 1 2 2 2 3 3 3 4 4 4 5 5 5 6 6 6 7 7 7 8 8 8]\n",
      "Prediction:\t[1 1 1 2 2 2 1 1 1 5 5 5 6 5 5 6 6 6 7 7 7 1 1 5]\n",
      "\n",
      "HMM state = 19,\tAccuracy = 0.875,\tRun time = 0.028\n",
      "Label:\t\t[1 1 1 2 2 2 3 3 3 4 4 4 5 5 5 6 6 6 7 7 7 8 8 8]\n",
      "Prediction:\t[1 1 1 2 2 2 3 3 3 4 4 4 5 5 5 6 6 6 7 7 7 1 1 5]\n",
      "\n",
      "HMM state = 21,\tAccuracy = 0.583,\tRun time = 0.032\n",
      "Label:\t\t[1 1 1 2 2 2 3 3 3 4 4 4 5 5 5 6 6 6 7 7 7 8 8 8]\n",
      "Prediction:\t[1 1 1 2 2 2 3 3 1 6 5 6 5 5 5 6 6 6 6 6 6 1 1 1]\n",
      "\n",
      "HMM state = 23,\tAccuracy = 0.458,\tRun time = 0.036\n",
      "Label:\t\t[1 1 1 2 2 2 3 3 3 4 4 4 5 5 5 6 6 6 7 7 7 8 8 8]\n",
      "Prediction:\t[1 1 1 2 2 2 1 1 3 5 5 5 5 5 5 5 1 5 1 1 7 5 5 5]\n",
      "\n",
      "HMM state = 25,\tAccuracy = 0.708,\tRun time = 0.040\n",
      "Label:\t\t[1 1 1 2 2 2 3 3 3 4 4 4 5 5 5 6 6 6 7 7 7 8 8 8]\n",
      "Prediction:\t[1 1 1 2 2 2 3 3 3 5 5 5 5 5 5 6 6 6 6 7 7 1 1 1]\n",
      "\n"
     ]
    }
   ],
   "source": [
    "print('Jack-Knife, Full covariance\\n')\n",
    "\n",
    "hmm_state = range(1,27,2)\n",
    "\n",
    "accuracy = []\n",
    "best_accuracy = 0\n",
    "\n",
    "for state in hmm_state:\n",
    "    hmm_model = []\n",
    "    # Train a HMM model using time sequences of training, train one HMM model for each gesture\n",
    "    for i in range(gesture_number):\n",
    "        hmm_model.append(hmm.GaussianHMM(n_components=state, covariance_type='full').fit(hmm_train_data_jackknife[i], lengths=hmm_train_lengths_jackknife[i]))\n",
    "\n",
    "    # After training HMM models, use them to classify each time sequence of testing\n",
    "    scores = np.empty((0,gesture_number))\n",
    "    \n",
    "    start_time = time()\n",
    "    for sequence in test_data_jackknife.values:\n",
    "        score = np.empty(gesture_number)\n",
    "        for k in range(gesture_number):\n",
    "            try:\n",
    "                score[k] = hmm_model[k].score(sequence)\n",
    "            except:\n",
    "                score[k] = -99999\n",
    "        scores = np.vstack((scores, score))\n",
    "    test_predict = np.argmax(scores, axis=1) + 1\n",
    "    end_time = time()\n",
    "    run_time = (end_time - start_time) / len(test_label_jackknife)\n",
    "    \n",
    "    accuracy.append(np.sum(test_predict == test_label_jackknife) / len(test_label_jackknife))\n",
    "    print('HMM state = %d,\\tAccuracy = %.3f,\\tRun time = %.3f\\nLabel:\\t\\t%s\\nPrediction:\\t%s\\n' % (state, accuracy[-1], run_time, test_label_jackknife, test_predict))\n",
    "    \n",
    "    # Save the best accuracy information for further analysis\n",
    "    if accuracy[-1] > best_accuracy:\n",
    "        best_accuracy = accuracy[-1]\n",
    "        best_hmm_state = state\n",
    "        best_test_predict = test_predict"
   ]
  },
  {
   "cell_type": "code",
   "execution_count": 28,
   "metadata": {
    "scrolled": false
   },
   "outputs": [
    {
     "ename": "ValueError",
     "evalue": "x and y must have same first dimension, but have shapes (13,) and (14,)",
     "output_type": "error",
     "traceback": [
      "\u001b[0;31m---------------------------------------------------------------------------\u001b[0m",
      "\u001b[0;31mValueError\u001b[0m                                Traceback (most recent call last)",
      "\u001b[0;32m<ipython-input-28-4e1414245af8>\u001b[0m in \u001b[0;36m<module>\u001b[0;34m\u001b[0m\n\u001b[0;32m----> 1\u001b[0;31m \u001b[0mplt\u001b[0m\u001b[0;34m.\u001b[0m\u001b[0mplot\u001b[0m\u001b[0;34m(\u001b[0m\u001b[0mhmm_state\u001b[0m\u001b[0;34m,\u001b[0m \u001b[0maccuracy\u001b[0m\u001b[0;34m)\u001b[0m\u001b[0;34m\u001b[0m\u001b[0;34m\u001b[0m\u001b[0m\n\u001b[0m\u001b[1;32m      2\u001b[0m \u001b[0mplt\u001b[0m\u001b[0;34m.\u001b[0m\u001b[0mxticks\u001b[0m\u001b[0;34m(\u001b[0m\u001b[0mhmm_state\u001b[0m\u001b[0;34m)\u001b[0m\u001b[0;34m\u001b[0m\u001b[0;34m\u001b[0m\u001b[0m\n\u001b[1;32m      3\u001b[0m \u001b[0mplt\u001b[0m\u001b[0;34m.\u001b[0m\u001b[0mxlabel\u001b[0m\u001b[0;34m(\u001b[0m\u001b[0;34m'HMM state'\u001b[0m\u001b[0;34m)\u001b[0m\u001b[0;34m\u001b[0m\u001b[0;34m\u001b[0m\u001b[0m\n\u001b[1;32m      4\u001b[0m \u001b[0mplt\u001b[0m\u001b[0;34m.\u001b[0m\u001b[0mylabel\u001b[0m\u001b[0;34m(\u001b[0m\u001b[0;34m'Accuracy'\u001b[0m\u001b[0;34m)\u001b[0m\u001b[0;34m\u001b[0m\u001b[0;34m\u001b[0m\u001b[0m\n\u001b[1;32m      5\u001b[0m \u001b[0mplt\u001b[0m\u001b[0;34m.\u001b[0m\u001b[0mlegend\u001b[0m\u001b[0;34m(\u001b[0m\u001b[0;34m[\u001b[0m\u001b[0;34m'Diag'\u001b[0m\u001b[0;34m,\u001b[0m \u001b[0;34m'Full'\u001b[0m\u001b[0;34m]\u001b[0m\u001b[0;34m)\u001b[0m\u001b[0;34m\u001b[0m\u001b[0;34m\u001b[0m\u001b[0m\n",
      "\u001b[0;32m~/.local/lib/python3.6/site-packages/matplotlib/pyplot.py\u001b[0m in \u001b[0;36mplot\u001b[0;34m(scalex, scaley, data, *args, **kwargs)\u001b[0m\n\u001b[1;32m   2794\u001b[0m     return gca().plot(\n\u001b[1;32m   2795\u001b[0m         *args, scalex=scalex, scaley=scaley, **({\"data\": data} if data\n\u001b[0;32m-> 2796\u001b[0;31m         is not None else {}), **kwargs)\n\u001b[0m\u001b[1;32m   2797\u001b[0m \u001b[0;34m\u001b[0m\u001b[0m\n\u001b[1;32m   2798\u001b[0m \u001b[0;34m\u001b[0m\u001b[0m\n",
      "\u001b[0;32m~/.local/lib/python3.6/site-packages/matplotlib/axes/_axes.py\u001b[0m in \u001b[0;36mplot\u001b[0;34m(self, scalex, scaley, data, *args, **kwargs)\u001b[0m\n\u001b[1;32m   1663\u001b[0m         \"\"\"\n\u001b[1;32m   1664\u001b[0m         \u001b[0mkwargs\u001b[0m \u001b[0;34m=\u001b[0m \u001b[0mcbook\u001b[0m\u001b[0;34m.\u001b[0m\u001b[0mnormalize_kwargs\u001b[0m\u001b[0;34m(\u001b[0m\u001b[0mkwargs\u001b[0m\u001b[0;34m,\u001b[0m \u001b[0mmlines\u001b[0m\u001b[0;34m.\u001b[0m\u001b[0mLine2D\u001b[0m\u001b[0;34m.\u001b[0m\u001b[0m_alias_map\u001b[0m\u001b[0;34m)\u001b[0m\u001b[0;34m\u001b[0m\u001b[0;34m\u001b[0m\u001b[0m\n\u001b[0;32m-> 1665\u001b[0;31m         \u001b[0mlines\u001b[0m \u001b[0;34m=\u001b[0m \u001b[0;34m[\u001b[0m\u001b[0;34m*\u001b[0m\u001b[0mself\u001b[0m\u001b[0;34m.\u001b[0m\u001b[0m_get_lines\u001b[0m\u001b[0;34m(\u001b[0m\u001b[0;34m*\u001b[0m\u001b[0margs\u001b[0m\u001b[0;34m,\u001b[0m \u001b[0mdata\u001b[0m\u001b[0;34m=\u001b[0m\u001b[0mdata\u001b[0m\u001b[0;34m,\u001b[0m \u001b[0;34m**\u001b[0m\u001b[0mkwargs\u001b[0m\u001b[0;34m)\u001b[0m\u001b[0;34m]\u001b[0m\u001b[0;34m\u001b[0m\u001b[0;34m\u001b[0m\u001b[0m\n\u001b[0m\u001b[1;32m   1666\u001b[0m         \u001b[0;32mfor\u001b[0m \u001b[0mline\u001b[0m \u001b[0;32min\u001b[0m \u001b[0mlines\u001b[0m\u001b[0;34m:\u001b[0m\u001b[0;34m\u001b[0m\u001b[0;34m\u001b[0m\u001b[0m\n\u001b[1;32m   1667\u001b[0m             \u001b[0mself\u001b[0m\u001b[0;34m.\u001b[0m\u001b[0madd_line\u001b[0m\u001b[0;34m(\u001b[0m\u001b[0mline\u001b[0m\u001b[0;34m)\u001b[0m\u001b[0;34m\u001b[0m\u001b[0;34m\u001b[0m\u001b[0m\n",
      "\u001b[0;32m~/.local/lib/python3.6/site-packages/matplotlib/axes/_base.py\u001b[0m in \u001b[0;36m__call__\u001b[0;34m(self, *args, **kwargs)\u001b[0m\n\u001b[1;32m    223\u001b[0m                 \u001b[0mthis\u001b[0m \u001b[0;34m+=\u001b[0m \u001b[0margs\u001b[0m\u001b[0;34m[\u001b[0m\u001b[0;36m0\u001b[0m\u001b[0;34m]\u001b[0m\u001b[0;34m,\u001b[0m\u001b[0;34m\u001b[0m\u001b[0;34m\u001b[0m\u001b[0m\n\u001b[1;32m    224\u001b[0m                 \u001b[0margs\u001b[0m \u001b[0;34m=\u001b[0m \u001b[0margs\u001b[0m\u001b[0;34m[\u001b[0m\u001b[0;36m1\u001b[0m\u001b[0;34m:\u001b[0m\u001b[0;34m]\u001b[0m\u001b[0;34m\u001b[0m\u001b[0;34m\u001b[0m\u001b[0m\n\u001b[0;32m--> 225\u001b[0;31m             \u001b[0;32myield\u001b[0m \u001b[0;32mfrom\u001b[0m \u001b[0mself\u001b[0m\u001b[0;34m.\u001b[0m\u001b[0m_plot_args\u001b[0m\u001b[0;34m(\u001b[0m\u001b[0mthis\u001b[0m\u001b[0;34m,\u001b[0m \u001b[0mkwargs\u001b[0m\u001b[0;34m)\u001b[0m\u001b[0;34m\u001b[0m\u001b[0;34m\u001b[0m\u001b[0m\n\u001b[0m\u001b[1;32m    226\u001b[0m \u001b[0;34m\u001b[0m\u001b[0m\n\u001b[1;32m    227\u001b[0m     \u001b[0;32mdef\u001b[0m \u001b[0mget_next_color\u001b[0m\u001b[0;34m(\u001b[0m\u001b[0mself\u001b[0m\u001b[0;34m)\u001b[0m\u001b[0;34m:\u001b[0m\u001b[0;34m\u001b[0m\u001b[0;34m\u001b[0m\u001b[0m\n",
      "\u001b[0;32m~/.local/lib/python3.6/site-packages/matplotlib/axes/_base.py\u001b[0m in \u001b[0;36m_plot_args\u001b[0;34m(self, tup, kwargs)\u001b[0m\n\u001b[1;32m    389\u001b[0m             \u001b[0mx\u001b[0m\u001b[0;34m,\u001b[0m \u001b[0my\u001b[0m \u001b[0;34m=\u001b[0m \u001b[0mindex_of\u001b[0m\u001b[0;34m(\u001b[0m\u001b[0mtup\u001b[0m\u001b[0;34m[\u001b[0m\u001b[0;34m-\u001b[0m\u001b[0;36m1\u001b[0m\u001b[0;34m]\u001b[0m\u001b[0;34m)\u001b[0m\u001b[0;34m\u001b[0m\u001b[0;34m\u001b[0m\u001b[0m\n\u001b[1;32m    390\u001b[0m \u001b[0;34m\u001b[0m\u001b[0m\n\u001b[0;32m--> 391\u001b[0;31m         \u001b[0mx\u001b[0m\u001b[0;34m,\u001b[0m \u001b[0my\u001b[0m \u001b[0;34m=\u001b[0m \u001b[0mself\u001b[0m\u001b[0;34m.\u001b[0m\u001b[0m_xy_from_xy\u001b[0m\u001b[0;34m(\u001b[0m\u001b[0mx\u001b[0m\u001b[0;34m,\u001b[0m \u001b[0my\u001b[0m\u001b[0;34m)\u001b[0m\u001b[0;34m\u001b[0m\u001b[0;34m\u001b[0m\u001b[0m\n\u001b[0m\u001b[1;32m    392\u001b[0m \u001b[0;34m\u001b[0m\u001b[0m\n\u001b[1;32m    393\u001b[0m         \u001b[0;32mif\u001b[0m \u001b[0mself\u001b[0m\u001b[0;34m.\u001b[0m\u001b[0mcommand\u001b[0m \u001b[0;34m==\u001b[0m \u001b[0;34m'plot'\u001b[0m\u001b[0;34m:\u001b[0m\u001b[0;34m\u001b[0m\u001b[0;34m\u001b[0m\u001b[0m\n",
      "\u001b[0;32m~/.local/lib/python3.6/site-packages/matplotlib/axes/_base.py\u001b[0m in \u001b[0;36m_xy_from_xy\u001b[0;34m(self, x, y)\u001b[0m\n\u001b[1;32m    268\u001b[0m         \u001b[0;32mif\u001b[0m \u001b[0mx\u001b[0m\u001b[0;34m.\u001b[0m\u001b[0mshape\u001b[0m\u001b[0;34m[\u001b[0m\u001b[0;36m0\u001b[0m\u001b[0;34m]\u001b[0m \u001b[0;34m!=\u001b[0m \u001b[0my\u001b[0m\u001b[0;34m.\u001b[0m\u001b[0mshape\u001b[0m\u001b[0;34m[\u001b[0m\u001b[0;36m0\u001b[0m\u001b[0;34m]\u001b[0m\u001b[0;34m:\u001b[0m\u001b[0;34m\u001b[0m\u001b[0;34m\u001b[0m\u001b[0m\n\u001b[1;32m    269\u001b[0m             raise ValueError(\"x and y must have same first dimension, but \"\n\u001b[0;32m--> 270\u001b[0;31m                              \"have shapes {} and {}\".format(x.shape, y.shape))\n\u001b[0m\u001b[1;32m    271\u001b[0m         \u001b[0;32mif\u001b[0m \u001b[0mx\u001b[0m\u001b[0;34m.\u001b[0m\u001b[0mndim\u001b[0m \u001b[0;34m>\u001b[0m \u001b[0;36m2\u001b[0m \u001b[0;32mor\u001b[0m \u001b[0my\u001b[0m\u001b[0;34m.\u001b[0m\u001b[0mndim\u001b[0m \u001b[0;34m>\u001b[0m \u001b[0;36m2\u001b[0m\u001b[0;34m:\u001b[0m\u001b[0;34m\u001b[0m\u001b[0;34m\u001b[0m\u001b[0m\n\u001b[1;32m    272\u001b[0m             raise ValueError(\"x and y can be no greater than 2-D, but have \"\n",
      "\u001b[0;31mValueError\u001b[0m: x and y must have same first dimension, but have shapes (13,) and (14,)"
     ]
    },
    {
     "data": {
      "image/png": "[encoded data removed]",
      "text/plain": [
       "<Figure size 432x288 with 1 Axes>"
      ]
     },
     "metadata": {
      "needs_background": "light"
     },
     "output_type": "display_data"
    }
   ],
   "source": [
    "plt.plot(hmm_state, accuracy)\n",
    "plt.xticks(hmm_state)\n",
    "plt.xlabel('HMM state')\n",
    "plt.ylabel('Accuracy')\n",
    "plt.legend(['Diag', 'Full'])\n",
    "plt.show()"
   ]
  },
  {
   "cell_type": "code",
   "execution_count": null,
   "metadata": {
    "scrolled": false
   },
   "outputs": [],
   "source": [
    "print('Jack-Knife, Full covariance\\n')\n",
    "print('Best accuracy occurs when:\\nHMM state = %d,\\t\\tBest accuracy = %.3f\\n' % (best_hmm_state, best_accuracy))\n",
    "print('Classification Report:\\n', classification_report(test_label_jackknife, best_test_predict))\n",
    "print('Confusion Matrix:\\n', confusion_matrix(test_label_jackknife, best_test_predict))"
   ]
  },
  {
   "cell_type": "markdown",
   "metadata": {},
   "source": [
    "### Get trained HMM parameters"
   ]
  },
  {
   "cell_type": "code",
   "execution_count": 52,
   "metadata": {},
   "outputs": [
    {
     "name": "stdout",
     "output_type": "stream",
     "text": [
      "Jack-Knife Train dataset's recording number 144 \n",
      "\n",
      "Jack-Knife Gesture 1 Train data shape: (1115, 21)\n",
      "Jack-Knife Gesture 2 Train data shape: (852, 21)\n",
      "Jack-Knife Gesture 3 Train data shape: (864, 21)\n",
      "Jack-Knife Gesture 4 Train data shape: (829, 21)\n",
      "Jack-Knife Gesture 5 Train data shape: (1009, 21)\n",
      "Jack-Knife Gesture 6 Train data shape: (868, 21)\n",
      "Jack-Knife Gesture 7 Train data shape: (897, 21)\n",
      "Jack-Knife Gesture 8 Train data shape: (817, 21)\n",
      "\n",
      "Jack-Knife Gesture 1 Train sequence lengths: [61 62 69 49 54 55 63 62 61 72 78 73 61 61 62 56 60 56]\n",
      "Jack-Knife Gesture 2 Train sequence lengths: [63 49 68 36 36 38 38 37 36 48 55 57 57 59 50 42 42 41]\n",
      "Jack-Knife Gesture 3 Train sequence lengths: [61 60 63 38 38 39 35 36 39 48 50 45 64 55 59 45 41 48]\n",
      "Jack-Knife Gesture 4 Train sequence lengths: [46 39 48 43 39 40 40 42 39 45 40 47 54 61 63 56 43 44]\n",
      "Jack-Knife Gesture 5 Train sequence lengths: [47 52 50 54 52 55 52 51 53 60 63 61 59 63 63 59 57 58]\n",
      "Jack-Knife Gesture 6 Train sequence lengths: [42 43 43 45 46 44 43 47 42 44 52 46 61 56 64 51 51 48]\n",
      "Jack-Knife Gesture 7 Train sequence lengths: [47 48 50 47 45 42 59 60 55 44 41 43 52 51 52 51 55 55]\n",
      "Jack-Knife Gesture 8 Train sequence lengths: [45 45 45 46 47 47 45 44 48 47 45 44 46 46 45 44 45 43]\n",
      "\n"
     ]
    }
   ],
   "source": [
    "train_data_jackknife = pd.concat([dataset[[dataset.index.values[i][0] == j for i in range(len(dataset))]] for j in range(1,gesture_number+1)])\n",
    "print('Jack-Knife Train dataset\\'s recording number', len(train_data_jackknife), '\\n')\n",
    "\n",
    "hmm_train_data_jackknife = [np.vstack(train_data_jackknife.loc[i].values) for i in range(1, gesture_number+1)]\n",
    "[print('Jack-Knife Gesture %d Train data shape: %s' % (i+1, hmm_train_data_jackknife[i].shape)) for i in range(gesture_number)]\n",
    "print()\n",
    "hmm_train_lengths_jackknife = [train_data_jackknife.loc[i].apply(len).values for i in range(1, gesture_number+1)]\n",
    "[print('Jack-Knife Gesture %d Train sequence lengths: %s' % (i+1, hmm_train_lengths_jackknife[i])) for i in range(gesture_number)]\n",
    "print()"
   ]
  },
  {
   "cell_type": "code",
   "execution_count": 53,
   "metadata": {},
   "outputs": [],
   "source": [
    "state = 1\n",
    "\n",
    "hmm_model = []\n",
    "# Train a HMM model using time sequences of training, train one HMM model for each gesture\n",
    "for i in range(gesture_number):\n",
    "    hmm_model.append(hmm.GaussianHMM(n_components=state, covariance_type='full').fit(hmm_train_data_jackknife[i], lengths=hmm_train_lengths_jackknife[i]))\n",
    "\n",
    "    \n",
    "trained_param = {}\n",
    "trained_param['startprob'] = []\n",
    "trained_param['transmat'] = []\n",
    "trained_param['means'] = []\n",
    "trained_param['covars'] = []\n",
    "\n",
    "for i in range(gesture_number):\n",
    "    trained_param['startprob'].append(hmm_model[i].startprob_.tolist())\n",
    "    trained_param['transmat'].append(hmm_model[i].transmat_.tolist())\n",
    "    trained_param['means'].append(hmm_model[i].means_.tolist())\n",
    "    trained_param['covars'].append(hmm_model[i].covars_.tolist())\n",
    "\n",
    "    \n",
    "with open('hmm_jackknife_full_trained_param.json', 'w') as json_file:\n",
    "    json.dump(trained_param, json_file)"
   ]
  },
  {
   "cell_type": "markdown",
   "metadata": {},
   "source": [
    "## Step 5: CRF"
   ]
  },
  {
   "cell_type": "code",
   "execution_count": null,
   "metadata": {},
   "outputs": [],
   "source": [
    "def crf_features(record):\n",
    "    result = []\n",
    "    for frame_feature in record:\n",
    "        result.append(dict(zip(np.arange(1,22).astype('str'), frame_feature)))\n",
    "    return result"
   ]
  },
  {
   "cell_type": "markdown",
   "metadata": {},
   "source": [
    "### 80% - 20%"
   ]
  },
  {
   "cell_type": "code",
   "execution_count": null,
   "metadata": {},
   "outputs": [],
   "source": [
    "crf_train_data_8020 = train_data_8020.apply(crf_features)\n",
    "crf_test_data_8020 = test_data_8020.apply(crf_features)"
   ]
  },
  {
   "cell_type": "code",
   "execution_count": null,
   "metadata": {
    "scrolled": false
   },
   "outputs": [],
   "source": [
    "train_label_8020 = train_data_8020.reset_index(0).iloc[:,0].values\n",
    "crf_train_label_8020 = [np.repeat(train_label_8020[i], len(train_data_8020.iloc[i])).astype('str').tolist() for i in range(len(train_label_8020))]\n",
    "\n",
    "test_label_8020 = test_data_8020.reset_index(0).iloc[:,0].values\n",
    "crf_test_label_8020 = [np.repeat(test_label_8020[i], len(test_data_8020.iloc[i])).astype('str').tolist() for i in range(len(test_label_8020))]"
   ]
  },
  {
   "cell_type": "code",
   "execution_count": null,
   "metadata": {
    "scrolled": false
   },
   "outputs": [],
   "source": [
    "crf = sklearn_crfsuite.CRF(\n",
    "    algorithm='lbfgs',\n",
    "#     c1=0.1,\n",
    "#     c2=0.1,\n",
    "#     max_iterations=100,\n",
    "#     all_possible_transitions=True\n",
    ")\n",
    "crf.fit(crf_train_data_8020, crf_train_label_8020)"
   ]
  },
  {
   "cell_type": "code",
   "execution_count": null,
   "metadata": {},
   "outputs": [],
   "source": [
    "start_time = time()\n",
    "crf_test_predict = crf.predict(crf_test_data_8020)\n",
    "# labels = np.arange(1,8).astype('str').tolist()\n",
    "# accuracy = metrics.flat_f1_score(crf_test_label, crf_test_predict,\n",
    "#                       average='weighted', labels=labels)\n",
    "test_predict = [int(max(set(x), key=x.count)) for x in crf_test_predict]\n",
    "end_time = time()\n",
    "run_time = (end_time - start_time) / len(test_label_8020)\n",
    "\n",
    "accuracy = np.sum(test_predict == test_label_8020) / len(test_label_8020)"
   ]
  },
  {
   "cell_type": "code",
   "execution_count": null,
   "metadata": {
    "scrolled": false
   },
   "outputs": [],
   "source": [
    "print('80%-20%\\n')\n",
    "print('Best accuracy = %.3f\\tRun time = %.3f\\n' % (accuracy, run_time))\n",
    "print('Classification Report:\\n', classification_report(test_label_8020, test_predict))\n",
    "print('Confusion Matrix:\\n', confusion_matrix(test_label_8020, test_predict))"
   ]
  },
  {
   "cell_type": "markdown",
   "metadata": {},
   "source": [
    "### Jack-Knife"
   ]
  },
  {
   "cell_type": "code",
   "execution_count": null,
   "metadata": {},
   "outputs": [],
   "source": [
    "crf_train_data_jackknife = train_data_jackknife.apply(crf_features)\n",
    "crf_test_data_jackknife = test_data_jackknife.apply(crf_features)"
   ]
  },
  {
   "cell_type": "code",
   "execution_count": null,
   "metadata": {
    "scrolled": false
   },
   "outputs": [],
   "source": [
    "train_label_jackknife = train_data_jackknife.reset_index(0).iloc[:,0].values\n",
    "crf_train_label_jackknife = [np.repeat(train_label_jackknife[i], len(train_data_jackknife.iloc[i])).astype('str').tolist() for i in range(len(train_label_jackknife))]\n",
    "\n",
    "test_label_jackknife = test_data_jackknife.reset_index(0).iloc[:,0].values\n",
    "crf_test_label_jackknife = [np.repeat(test_label_jackknife[i], len(test_data_jackknife.iloc[i])).astype('str').tolist() for i in range(len(test_label_jackknife))]"
   ]
  },
  {
   "cell_type": "code",
   "execution_count": null,
   "metadata": {
    "scrolled": false
   },
   "outputs": [],
   "source": [
    "crf = sklearn_crfsuite.CRF(\n",
    "    algorithm='lbfgs',\n",
    "#     c1=0.1,\n",
    "#     c2=0.1,\n",
    "#     max_iterations=100,\n",
    "#     all_possible_transitions=True\n",
    ")\n",
    "crf.fit(crf_train_data_jackknife, crf_train_label_jackknife)"
   ]
  },
  {
   "cell_type": "code",
   "execution_count": null,
   "metadata": {},
   "outputs": [],
   "source": [
    "start_time = time()\n",
    "crf_test_predict = crf.predict(crf_test_data_jackknife)\n",
    "# labels = np.arange(1,8).astype('str').tolist()\n",
    "# accuracy = metrics.flat_f1_score(crf_test_label, crf_test_predict,\n",
    "#                       average='weighted', labels=labels)\n",
    "test_predict = [int(max(set(x), key=x.count)) for x in crf_test_predict]\n",
    "end_time = time()\n",
    "run_time = (end_time - start_time) / len(test_label_jackknife)\n",
    "\n",
    "accuracy = np.sum(test_predict == test_label_jackknife) / len(test_label_jackknife)"
   ]
  },
  {
   "cell_type": "code",
   "execution_count": null,
   "metadata": {
    "scrolled": false
   },
   "outputs": [],
   "source": [
    "print('Jack-Knife\\n')\n",
    "print('Best accuracy = %.3f\\tRun time = %.3f\\n' % (accuracy, run_time))\n",
    "print('Classification Report:\\n', classification_report(test_label_jackknife, test_predict))\n",
    "print('Confusion Matrix:\\n', confusion_matrix(test_label_jackknife, test_predict))"
   ]
  },
  {
   "cell_type": "markdown",
   "metadata": {},
   "source": [
    "## Step 6: DTW"
   ]
  },
  {
   "cell_type": "code",
   "execution_count": 34,
   "metadata": {},
   "outputs": [
    {
     "data": {
      "text/plain": [
       "Gesture\n",
       "1    [[0.16378520369288252, 0.5334421015070249, 0.9...\n",
       "2    [[0.16174080402277669, 0.5380593474150027, 0.9...\n",
       "3    [[0.16328926488583456, 0.5355900599443473, 0.9...\n",
       "4    [[0.16046884294278801, 0.5577949378282874, 0.9...\n",
       "5    [[0.16468131885122744, 0.542795781008123, 0.93...\n",
       "6    [[0.16462263725702592, 0.5389471104001583, 0.9...\n",
       "7    [[0.1812600364399212, 0.5495971931080154, 0.94...\n",
       "8    [[0.16733951702542296, 0.545824450648114, 0.94...\n",
       "Name: Feature_normalized, dtype: object"
      ]
     },
     "metadata": {},
     "output_type": "display_data"
    },
    {
     "data": {
      "text/plain": [
       "Gesture  Sub folder No.\n",
       "1        2                 [[0.17471872658208118, 0.5378476847798014, 0.9...\n",
       "         3                 [[0.18216633181606004, 0.5231743019007848, 0.9...\n",
       "         4                 [[0.1716376696151291, 0.5519438903924956, 0.94...\n",
       "         5                 [[0.167079341578526, 0.5377976506992708, 0.947...\n",
       "         6                 [[0.15763667447305574, 0.5235416460121718, 0.9...\n",
       "Name: Feature_normalized, dtype: object"
      ]
     },
     "metadata": {},
     "output_type": "display_data"
    }
   ],
   "source": [
    "dtw_train_data = dataset.loc[:,1]\n",
    "dtw_test_data = dataset.loc[:,2:]\n",
    "display(dtw_train_data)\n",
    "display(dtw_test_data.head())"
   ]
  },
  {
   "cell_type": "code",
   "execution_count": 35,
   "metadata": {},
   "outputs": [],
   "source": [
    "dtw_train_data.rename_axis(2).get_values\n",
    "import csv\n",
    "dtw_csv = []\n",
    "for i in range(8):\n",
    "    dtw_csv.append(dtw_train_data.iloc[i])\n",
    "with open('dtw_data.csv', 'w', newline='') as csvfile:\n",
    "    writer = csv.writer(csvfile, delimiter=',')\n",
    "    writer.writerows(dtw_csv)"
   ]
  },
  {
   "cell_type": "code",
   "execution_count": 36,
   "metadata": {
    "scrolled": true
   },
   "outputs": [],
   "source": [
    "dtw_test_label = dtw_test_data.reset_index().iloc[:,0].values"
   ]
  },
  {
   "cell_type": "code",
   "execution_count": null,
   "metadata": {},
   "outputs": [],
   "source": [
    "dtw_test_pred = np.empty(len(test_label_dtw))\n",
    "start_time = time()\n",
    "for i in range(len(dtw_test_label)):\n",
    "    dist = np.empty(gesture_number)\n",
    "    for j in range(gesture_number):\n",
    "        dist[j] = dtw(dtw_train_data.iloc[j], dtw_test_data.iloc[i])\n",
    "    dtw_test_pred[i] = np.argmin(dist) + 1\n",
    "end_time = time()\n",
    "\n",
    "run_time = (end_time - start_time) / len(dtw_test_label)\n",
    "accuracy = np.sum(dtw_test_pred == dtw_test_label) / len(dtw_test_label)"
   ]
  },
  {
   "cell_type": "code",
   "execution_count": null,
   "metadata": {
    "scrolled": false
   },
   "outputs": [],
   "source": [
    "print('Best accuracy = %.3f\\tRun time = %.3f\\n' % (accuracy, run_time))\n",
    "print('Classification Report:\\n', classification_report(dtw_test_label, dtw_test_pred))\n",
    "print('Confusion Matrix:\\n', confusion_matrix(dtw_test_label, dtw_test_pred))"
   ]
  }
 ],
 "metadata": {
  "kernelspec": {
   "display_name": "Python 3",
   "language": "python",
   "name": "python3"
  },
  "language_info": {
   "codemirror_mode": {
    "name": "ipython",
    "version": 3
   },
   "file_extension": ".py",
   "mimetype": "text/x-python",
   "name": "python",
   "nbconvert_exporter": "python",
   "pygments_lexer": "ipython3",
   "version": "3.6.9"
  },
  "pycharm": {
   "stem_cell": {
    "cell_type": "raw",
    "metadata": {
     "collapsed": false
    },
    "source": []
   }
  }
 },
 "nbformat": 4,
 "nbformat_minor": 1
}
